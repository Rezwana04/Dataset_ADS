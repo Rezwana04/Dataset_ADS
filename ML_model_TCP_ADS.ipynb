{
 "cells": [
  {
   "cell_type": "code",
   "execution_count": 1,
   "id": "54302402",
   "metadata": {},
   "outputs": [],
   "source": [
    "import pandas as pd\n"
   ]
  },
  {
   "cell_type": "code",
   "execution_count": 2,
   "id": "c95a90bf",
   "metadata": {},
   "outputs": [
    {
     "data": {
      "text/html": [
       "<div>\n",
       "<style scoped>\n",
       "    .dataframe tbody tr th:only-of-type {\n",
       "        vertical-align: middle;\n",
       "    }\n",
       "\n",
       "    .dataframe tbody tr th {\n",
       "        vertical-align: top;\n",
       "    }\n",
       "\n",
       "    .dataframe thead th {\n",
       "        text-align: right;\n",
       "    }\n",
       "</style>\n",
       "<table border=\"1\" class=\"dataframe\">\n",
       "  <thead>\n",
       "    <tr style=\"text-align: right;\">\n",
       "      <th></th>\n",
       "      <th>Unnamed: 0</th>\n",
       "      <th>acceleration</th>\n",
       "      <th>throttle</th>\n",
       "      <th>steering_target</th>\n",
       "      <th>brake</th>\n",
       "      <th>steering_rate</th>\n",
       "      <th>speed</th>\n",
       "      <th>ego_operation</th>\n",
       "      <th>ego_speed</th>\n",
       "      <th>timeofDay</th>\n",
       "      <th>...</th>\n",
       "      <th>Weather_wetness</th>\n",
       "      <th>pedestrian_count</th>\n",
       "      <th>vehicle_count</th>\n",
       "      <th>weather</th>\n",
       "      <th>test_scenario_number</th>\n",
       "      <th>Traffic_Light</th>\n",
       "      <th>Demand</th>\n",
       "      <th>Diversity</th>\n",
       "      <th>Diversity_AVG</th>\n",
       "      <th>Collision_Probability</th>\n",
       "    </tr>\n",
       "  </thead>\n",
       "  <tbody>\n",
       "    <tr>\n",
       "      <th>0</th>\n",
       "      <td>0</td>\n",
       "      <td>1.21</td>\n",
       "      <td>15.70</td>\n",
       "      <td>0.68</td>\n",
       "      <td>0.0</td>\n",
       "      <td>100.0</td>\n",
       "      <td>5.15</td>\n",
       "      <td>1</td>\n",
       "      <td>3</td>\n",
       "      <td>1</td>\n",
       "      <td>...</td>\n",
       "      <td>0</td>\n",
       "      <td>0</td>\n",
       "      <td>0</td>\n",
       "      <td>0</td>\n",
       "      <td>0</td>\n",
       "      <td>3</td>\n",
       "      <td>6</td>\n",
       "      <td>12053</td>\n",
       "      <td>0.201</td>\n",
       "      <td>0.742</td>\n",
       "    </tr>\n",
       "    <tr>\n",
       "      <th>1</th>\n",
       "      <td>1</td>\n",
       "      <td>0.81</td>\n",
       "      <td>23.40</td>\n",
       "      <td>0.50</td>\n",
       "      <td>0.0</td>\n",
       "      <td>100.0</td>\n",
       "      <td>6.24</td>\n",
       "      <td>1</td>\n",
       "      <td>3</td>\n",
       "      <td>1</td>\n",
       "      <td>...</td>\n",
       "      <td>0</td>\n",
       "      <td>0</td>\n",
       "      <td>0</td>\n",
       "      <td>0</td>\n",
       "      <td>1</td>\n",
       "      <td>3</td>\n",
       "      <td>0</td>\n",
       "      <td>13470</td>\n",
       "      <td>0.225</td>\n",
       "      <td>0.074</td>\n",
       "    </tr>\n",
       "    <tr>\n",
       "      <th>2</th>\n",
       "      <td>2</td>\n",
       "      <td>1.12</td>\n",
       "      <td>15.70</td>\n",
       "      <td>0.44</td>\n",
       "      <td>0.0</td>\n",
       "      <td>100.0</td>\n",
       "      <td>6.38</td>\n",
       "      <td>1</td>\n",
       "      <td>3</td>\n",
       "      <td>1</td>\n",
       "      <td>...</td>\n",
       "      <td>0</td>\n",
       "      <td>0</td>\n",
       "      <td>0</td>\n",
       "      <td>0</td>\n",
       "      <td>2</td>\n",
       "      <td>3</td>\n",
       "      <td>7</td>\n",
       "      <td>12234</td>\n",
       "      <td>0.204</td>\n",
       "      <td>0.718</td>\n",
       "    </tr>\n",
       "    <tr>\n",
       "      <th>3</th>\n",
       "      <td>3</td>\n",
       "      <td>1.42</td>\n",
       "      <td>31.76</td>\n",
       "      <td>0.44</td>\n",
       "      <td>0.0</td>\n",
       "      <td>100.0</td>\n",
       "      <td>6.60</td>\n",
       "      <td>1</td>\n",
       "      <td>3</td>\n",
       "      <td>1</td>\n",
       "      <td>...</td>\n",
       "      <td>0</td>\n",
       "      <td>0</td>\n",
       "      <td>0</td>\n",
       "      <td>0</td>\n",
       "      <td>3</td>\n",
       "      <td>3</td>\n",
       "      <td>19</td>\n",
       "      <td>12199</td>\n",
       "      <td>0.203</td>\n",
       "      <td>0.985</td>\n",
       "    </tr>\n",
       "    <tr>\n",
       "      <th>4</th>\n",
       "      <td>4</td>\n",
       "      <td>0.90</td>\n",
       "      <td>24.20</td>\n",
       "      <td>0.54</td>\n",
       "      <td>0.0</td>\n",
       "      <td>100.0</td>\n",
       "      <td>7.03</td>\n",
       "      <td>1</td>\n",
       "      <td>3</td>\n",
       "      <td>1</td>\n",
       "      <td>...</td>\n",
       "      <td>0</td>\n",
       "      <td>0</td>\n",
       "      <td>0</td>\n",
       "      <td>0</td>\n",
       "      <td>4</td>\n",
       "      <td>3</td>\n",
       "      <td>5</td>\n",
       "      <td>11846</td>\n",
       "      <td>0.197</td>\n",
       "      <td>0.454</td>\n",
       "    </tr>\n",
       "    <tr>\n",
       "      <th>...</th>\n",
       "      <td>...</td>\n",
       "      <td>...</td>\n",
       "      <td>...</td>\n",
       "      <td>...</td>\n",
       "      <td>...</td>\n",
       "      <td>...</td>\n",
       "      <td>...</td>\n",
       "      <td>...</td>\n",
       "      <td>...</td>\n",
       "      <td>...</td>\n",
       "      <td>...</td>\n",
       "      <td>...</td>\n",
       "      <td>...</td>\n",
       "      <td>...</td>\n",
       "      <td>...</td>\n",
       "      <td>...</td>\n",
       "      <td>...</td>\n",
       "      <td>...</td>\n",
       "      <td>...</td>\n",
       "      <td>...</td>\n",
       "      <td>...</td>\n",
       "    </tr>\n",
       "    <tr>\n",
       "      <th>59995</th>\n",
       "      <td>59995</td>\n",
       "      <td>-0.30</td>\n",
       "      <td>0.00</td>\n",
       "      <td>0.16</td>\n",
       "      <td>14.5</td>\n",
       "      <td>100.0</td>\n",
       "      <td>0.71</td>\n",
       "      <td>3</td>\n",
       "      <td>2</td>\n",
       "      <td>1</td>\n",
       "      <td>...</td>\n",
       "      <td>0</td>\n",
       "      <td>0</td>\n",
       "      <td>0</td>\n",
       "      <td>0</td>\n",
       "      <td>59995</td>\n",
       "      <td>3</td>\n",
       "      <td>5</td>\n",
       "      <td>10533</td>\n",
       "      <td>0.176</td>\n",
       "      <td>0.593</td>\n",
       "    </tr>\n",
       "    <tr>\n",
       "      <th>59996</th>\n",
       "      <td>59996</td>\n",
       "      <td>0.74</td>\n",
       "      <td>75.18</td>\n",
       "      <td>0.15</td>\n",
       "      <td>0.0</td>\n",
       "      <td>100.0</td>\n",
       "      <td>0.80</td>\n",
       "      <td>1</td>\n",
       "      <td>2</td>\n",
       "      <td>1</td>\n",
       "      <td>...</td>\n",
       "      <td>0</td>\n",
       "      <td>0</td>\n",
       "      <td>0</td>\n",
       "      <td>0</td>\n",
       "      <td>59996</td>\n",
       "      <td>3</td>\n",
       "      <td>1</td>\n",
       "      <td>10533</td>\n",
       "      <td>0.176</td>\n",
       "      <td>0.087</td>\n",
       "    </tr>\n",
       "    <tr>\n",
       "      <th>59997</th>\n",
       "      <td>59997</td>\n",
       "      <td>1.14</td>\n",
       "      <td>34.06</td>\n",
       "      <td>0.10</td>\n",
       "      <td>0.0</td>\n",
       "      <td>100.0</td>\n",
       "      <td>1.97</td>\n",
       "      <td>1</td>\n",
       "      <td>2</td>\n",
       "      <td>1</td>\n",
       "      <td>...</td>\n",
       "      <td>0</td>\n",
       "      <td>0</td>\n",
       "      <td>0</td>\n",
       "      <td>0</td>\n",
       "      <td>59997</td>\n",
       "      <td>3</td>\n",
       "      <td>5</td>\n",
       "      <td>10533</td>\n",
       "      <td>0.176</td>\n",
       "      <td>0.369</td>\n",
       "    </tr>\n",
       "    <tr>\n",
       "      <th>59998</th>\n",
       "      <td>59998</td>\n",
       "      <td>0.73</td>\n",
       "      <td>61.19</td>\n",
       "      <td>0.18</td>\n",
       "      <td>0.0</td>\n",
       "      <td>100.0</td>\n",
       "      <td>2.77</td>\n",
       "      <td>1</td>\n",
       "      <td>2</td>\n",
       "      <td>1</td>\n",
       "      <td>...</td>\n",
       "      <td>0</td>\n",
       "      <td>0</td>\n",
       "      <td>0</td>\n",
       "      <td>0</td>\n",
       "      <td>59998</td>\n",
       "      <td>3</td>\n",
       "      <td>5</td>\n",
       "      <td>10533</td>\n",
       "      <td>0.176</td>\n",
       "      <td>0.652</td>\n",
       "    </tr>\n",
       "    <tr>\n",
       "      <th>59999</th>\n",
       "      <td>59999</td>\n",
       "      <td>1.31</td>\n",
       "      <td>77.08</td>\n",
       "      <td>0.13</td>\n",
       "      <td>0.0</td>\n",
       "      <td>100.0</td>\n",
       "      <td>3.19</td>\n",
       "      <td>1</td>\n",
       "      <td>2</td>\n",
       "      <td>1</td>\n",
       "      <td>...</td>\n",
       "      <td>0</td>\n",
       "      <td>0</td>\n",
       "      <td>0</td>\n",
       "      <td>0</td>\n",
       "      <td>59999</td>\n",
       "      <td>3</td>\n",
       "      <td>1</td>\n",
       "      <td>10533</td>\n",
       "      <td>0.176</td>\n",
       "      <td>0.087</td>\n",
       "    </tr>\n",
       "  </tbody>\n",
       "</table>\n",
       "<p>60000 rows × 24 columns</p>\n",
       "</div>"
      ],
      "text/plain": [
       "       Unnamed: 0  acceleration  throttle  steering_target  brake  \\\n",
       "0               0          1.21     15.70             0.68    0.0   \n",
       "1               1          0.81     23.40             0.50    0.0   \n",
       "2               2          1.12     15.70             0.44    0.0   \n",
       "3               3          1.42     31.76             0.44    0.0   \n",
       "4               4          0.90     24.20             0.54    0.0   \n",
       "...           ...           ...       ...              ...    ...   \n",
       "59995       59995         -0.30      0.00             0.16   14.5   \n",
       "59996       59996          0.74     75.18             0.15    0.0   \n",
       "59997       59997          1.14     34.06             0.10    0.0   \n",
       "59998       59998          0.73     61.19             0.18    0.0   \n",
       "59999       59999          1.31     77.08             0.13    0.0   \n",
       "\n",
       "       steering_rate  speed  ego_operation  ego_speed  timeofDay  ...  \\\n",
       "0              100.0   5.15              1          3          1  ...   \n",
       "1              100.0   6.24              1          3          1  ...   \n",
       "2              100.0   6.38              1          3          1  ...   \n",
       "3              100.0   6.60              1          3          1  ...   \n",
       "4              100.0   7.03              1          3          1  ...   \n",
       "...              ...    ...            ...        ...        ...  ...   \n",
       "59995          100.0   0.71              3          2          1  ...   \n",
       "59996          100.0   0.80              1          2          1  ...   \n",
       "59997          100.0   1.97              1          2          1  ...   \n",
       "59998          100.0   2.77              1          2          1  ...   \n",
       "59999          100.0   3.19              1          2          1  ...   \n",
       "\n",
       "       Weather_wetness  pedestrian_count  vehicle_count  weather  \\\n",
       "0                    0                 0              0        0   \n",
       "1                    0                 0              0        0   \n",
       "2                    0                 0              0        0   \n",
       "3                    0                 0              0        0   \n",
       "4                    0                 0              0        0   \n",
       "...                ...               ...            ...      ...   \n",
       "59995                0                 0              0        0   \n",
       "59996                0                 0              0        0   \n",
       "59997                0                 0              0        0   \n",
       "59998                0                 0              0        0   \n",
       "59999                0                 0              0        0   \n",
       "\n",
       "       test_scenario_number  Traffic_Light  Demand  Diversity  Diversity_AVG  \\\n",
       "0                         0              3       6      12053          0.201   \n",
       "1                         1              3       0      13470          0.225   \n",
       "2                         2              3       7      12234          0.204   \n",
       "3                         3              3      19      12199          0.203   \n",
       "4                         4              3       5      11846          0.197   \n",
       "...                     ...            ...     ...        ...            ...   \n",
       "59995                 59995              3       5      10533          0.176   \n",
       "59996                 59996              3       1      10533          0.176   \n",
       "59997                 59997              3       5      10533          0.176   \n",
       "59998                 59998              3       5      10533          0.176   \n",
       "59999                 59999              3       1      10533          0.176   \n",
       "\n",
       "       Collision_Probability  \n",
       "0                      0.742  \n",
       "1                      0.074  \n",
       "2                      0.718  \n",
       "3                      0.985  \n",
       "4                      0.454  \n",
       "...                      ...  \n",
       "59995                  0.593  \n",
       "59996                  0.087  \n",
       "59997                  0.369  \n",
       "59998                  0.652  \n",
       "59999                  0.087  \n",
       "\n",
       "[60000 rows x 24 columns]"
      ]
     },
     "execution_count": 2,
     "metadata": {},
     "output_type": "execute_result"
    }
   ],
   "source": [
    "data=pd.read_csv(\"ADS_TCP.csv\", engine=None)\n",
    "data"
   ]
  },
  {
   "cell_type": "code",
   "execution_count": 3,
   "id": "6baf4928",
   "metadata": {},
   "outputs": [
    {
     "name": "stdout",
     "output_type": "stream",
     "text": [
      "<class 'pandas.core.frame.DataFrame'>\n",
      "RangeIndex: 60000 entries, 0 to 59999\n",
      "Data columns (total 24 columns):\n",
      " #   Column                 Non-Null Count  Dtype  \n",
      "---  ------                 --------------  -----  \n",
      " 0   Unnamed: 0             60000 non-null  int64  \n",
      " 1   acceleration           60000 non-null  float64\n",
      " 2   throttle               60000 non-null  float64\n",
      " 3   steering_target        60000 non-null  float64\n",
      " 4   brake                  60000 non-null  float64\n",
      " 5   steering_rate          60000 non-null  float64\n",
      " 6   speed                  60000 non-null  float64\n",
      " 7   ego_operation          60000 non-null  int64  \n",
      " 8   ego_speed              60000 non-null  int64  \n",
      " 9   timeofDay              60000 non-null  int64  \n",
      " 10  trafficRule_sidewalk   60000 non-null  int64  \n",
      " 11  CollisionInfo          60000 non-null  int64  \n",
      " 12  Weather_rain           60000 non-null  int64  \n",
      " 13  Weather_fog            60000 non-null  int64  \n",
      " 14  Weather_wetness        60000 non-null  int64  \n",
      " 15  pedestrian_count       60000 non-null  int64  \n",
      " 16  vehicle_count          60000 non-null  int64  \n",
      " 17  weather                60000 non-null  int64  \n",
      " 18  test_scenario_number   60000 non-null  int64  \n",
      " 19  Traffic_Light          60000 non-null  int64  \n",
      " 20  Demand                 60000 non-null  int64  \n",
      " 21  Diversity              60000 non-null  int64  \n",
      " 22  Diversity_AVG          60000 non-null  float64\n",
      " 23  Collision_Probability  60000 non-null  float64\n",
      "dtypes: float64(8), int64(16)\n",
      "memory usage: 11.0 MB\n"
     ]
    }
   ],
   "source": [
    "data.info()"
   ]
  },
  {
   "cell_type": "code",
   "execution_count": 4,
   "id": "eae890c3",
   "metadata": {},
   "outputs": [],
   "source": [
    "data=data.drop(['Unnamed: 0'],axis=1) "
   ]
  },
  {
   "cell_type": "markdown",
   "id": "45d8a203",
   "metadata": {},
   "source": [
    "# train_test_split"
   ]
  },
  {
   "cell_type": "code",
   "execution_count": 4,
   "id": "56d22ca1",
   "metadata": {},
   "outputs": [],
   "source": [
    "# Import train_test_split function\n",
    "from sklearn.model_selection import train_test_split\n",
    "X=data.drop(['CollisionInfo','test_scenario_number'],axis=1) # Features\n",
    "y=data['CollisionInfo']\n",
    "# Split dataset into training set and test set\n",
    "X_train, X_test, y_train, y_test = train_test_split(X, y, test_size=0.3,random_state=0)"
   ]
  },
  {
   "cell_type": "code",
   "execution_count": 5,
   "id": "e04ebee9",
   "metadata": {},
   "outputs": [
    {
     "name": "stderr",
     "output_type": "stream",
     "text": [
      "C:\\Users\\100641313\\Anaconda3\\lib\\site-packages\\xgboost\\sklearn.py:1224: UserWarning: The use of label encoder in XGBClassifier is deprecated and will be removed in a future release. To remove this warning, do the following: 1) Pass option use_label_encoder=False when constructing XGBClassifier object; and 2) Encode your labels (y) as integers starting with 0, i.e. 0, 1, 2, ..., [num_class - 1].\n",
      "  warnings.warn(label_encoder_deprecation_msg, UserWarning)\n"
     ]
    },
    {
     "name": "stdout",
     "output_type": "stream",
     "text": [
      "[08:04:53] WARNING: C:/Users/Administrator/workspace/xgboost-win64_release_1.5.1/src/learner.cc:1115: Starting in XGBoost 1.3.0, the default evaluation metric used with the objective 'binary:logistic' was changed from 'error' to 'logloss'. Explicitly set eval_metric if you'd like to restore the old behavior.\n"
     ]
    },
    {
     "data": {
      "text/plain": [
       "XGBClassifier(base_score=0.5, booster='gbtree', colsample_bylevel=1,\n",
       "              colsample_bynode=1, colsample_bytree=1, enable_categorical=False,\n",
       "              gamma=0, gpu_id=-1, importance_type=None,\n",
       "              interaction_constraints='', learning_rate=0.300000012,\n",
       "              max_delta_step=0, max_depth=6, min_child_weight=1, missing=nan,\n",
       "              monotone_constraints='()', n_estimators=100, n_jobs=8,\n",
       "              num_parallel_tree=1, predictor='auto', random_state=0,\n",
       "              reg_alpha=0, reg_lambda=1, scale_pos_weight=1, subsample=1,\n",
       "              tree_method='exact', validate_parameters=1, verbosity=None)"
      ]
     },
     "execution_count": 5,
     "metadata": {},
     "output_type": "execute_result"
    }
   ],
   "source": [
    "from xgboost import XGBClassifier\n",
    "clf = XGBClassifier()\n",
    "clf.fit(X_train,y_train)"
   ]
  },
  {
   "cell_type": "code",
   "execution_count": 6,
   "id": "b1582717",
   "metadata": {},
   "outputs": [
    {
     "name": "stderr",
     "output_type": "stream",
     "text": [
      "Permutation explainer: 18001it [32:31,  9.19it/s]                                                                      \n"
     ]
    }
   ],
   "source": [
    "import shap\n",
    "# Fits the explainer\n",
    "explainer = shap.Explainer(clf.predict, X_test)\n",
    "# Calculates the SHAP values - It takes some time\n",
    "shap_values = explainer(X_test)"
   ]
  },
  {
   "cell_type": "code",
   "execution_count": 7,
   "id": "6c16fc16",
   "metadata": {},
   "outputs": [
    {
     "data": {
      "image/png": "[encoded data removed]",
      "text/plain": [
       "<Figure size 576x468 with 1 Axes>"
      ]
     },
     "metadata": {},
     "output_type": "display_data"
    }
   ],
   "source": [
    "shap.plots.bar(shap_values)"
   ]
  },
  {
   "cell_type": "code",
   "execution_count": 12,
   "id": "298833f8",
   "metadata": {},
   "outputs": [],
   "source": [
    "X=data[['Traffic_Light','speed','vehicle_count','Weather_fog','acceleration','timeofDay','steering_target','Collision_Probability','Diversity']] # Features\n",
    "y=data['CollisionInfo']\n",
    "# Split dataset into training set and test set\n",
    "X_train, X_test, y_train, y_test = train_test_split(X, y, test_size=0.3,random_state=0)"
   ]
  },
  {
   "cell_type": "code",
   "execution_count": 13,
   "id": "c326bf7f",
   "metadata": {},
   "outputs": [
    {
     "name": "stderr",
     "output_type": "stream",
     "text": [
      "The use of label encoder in XGBClassifier is deprecated and will be removed in a future release. To remove this warning, do the following: 1) Pass option use_label_encoder=False when constructing XGBClassifier object; and 2) Encode your labels (y) as integers starting with 0, i.e. 0, 1, 2, ..., [num_class - 1].\n"
     ]
    },
    {
     "name": "stdout",
     "output_type": "stream",
     "text": [
      "[09:33:29] WARNING: C:/Users/Administrator/workspace/xgboost-win64_release_1.5.1/src/learner.cc:1115: Starting in XGBoost 1.3.0, the default evaluation metric used with the objective 'binary:logistic' was changed from 'error' to 'logloss'. Explicitly set eval_metric if you'd like to restore the old behavior.\n"
     ]
    }
   ],
   "source": [
    "from xgboost import XGBClassifier\n",
    "clf = XGBClassifier()\n",
    "clf.fit(X_train,y_train)\n",
    "y_pred_xgb=clf.predict(X_test)\n",
    "y_pred_xgb_proba=clf.predict_proba(X_test)"
   ]
  },
  {
   "cell_type": "code",
   "execution_count": 16,
   "id": "4a095f72",
   "metadata": {},
   "outputs": [
    {
     "name": "stdout",
     "output_type": "stream",
     "text": [
      "Accuracy: 0.9572222222222222\n",
      "f1_score: 0.14444444444444443\n",
      "recall_score: 0.08430609597924774\n",
      "precision_score: 0.5038759689922481\n"
     ]
    }
   ],
   "source": [
    "accuracy = accuracy_score(y_test, y_pred_xgb)\n",
    "f1 = f1_score(y_test, y_pred_xgb)\n",
    "recall = recall_score(y_test, y_pred_xgb)\n",
    "precission = precision_score(y_test, y_pred_xgb)\n",
    "\n",
    "print(\"Accuracy:\", accuracy)\n",
    "print(\"f1_score:\", f1)\n",
    "print(\"recall_score:\", recall)\n",
    "print(\"precision_score:\", precission)"
   ]
  },
  {
   "cell_type": "markdown",
   "id": "dad5333c",
   "metadata": {},
   "source": [
    "# importing evaluation matrix"
   ]
  },
  {
   "cell_type": "code",
   "execution_count": 5,
   "id": "54375c8a",
   "metadata": {},
   "outputs": [],
   "source": [
    "from sklearn.metrics import accuracy_score, f1_score, precision_score, recall_score\n",
    "from sklearn.metrics import confusion_matrix\n",
    "from sklearn.metrics import classification_report"
   ]
  },
  {
   "cell_type": "markdown",
   "id": "ebba44eb",
   "metadata": {},
   "source": [
    "# Decission tree"
   ]
  },
  {
   "cell_type": "code",
   "execution_count": 7,
   "id": "d0896fc3",
   "metadata": {},
   "outputs": [],
   "source": [
    "from sklearn.tree import DecisionTreeClassifier\n",
    "clf_df = DecisionTreeClassifier(random_state=123)\n",
    "clf_df.fit(X_train,y_train)\n",
    "y_pred_d=clf_df.predict(X_test)\n",
    "y_pred_d_proba=clf_df.predict_proba(X_test)"
   ]
  },
  {
   "cell_type": "code",
   "execution_count": 8,
   "id": "bc0793d8",
   "metadata": {},
   "outputs": [
    {
     "name": "stdout",
     "output_type": "stream",
     "text": [
      "Accuracy: 0.9287777777777778\n",
      "f1_score: 0.20471464019851116\n",
      "recall_score: 0.2140077821011673\n",
      "precision_score: 0.1961950059453032\n"
     ]
    }
   ],
   "source": [
    "accuracy = accuracy_score(y_test, y_pred_d)\n",
    "f1 = f1_score(y_test, y_pred_d)\n",
    "recall = recall_score(y_test, y_pred_d)\n",
    "precission = precision_score(y_test, y_pred_d)\n",
    "\n",
    "print(\"Accuracy:\", accuracy)\n",
    "print(\"f1_score:\", f1)\n",
    "print(\"recall_score:\", recall)\n",
    "print(\"precision_score:\", precission)"
   ]
  },
  {
   "cell_type": "code",
   "execution_count": 9,
   "id": "bc43a842",
   "metadata": {},
   "outputs": [
    {
     "name": "stdout",
     "output_type": "stream",
     "text": [
      "Predicted      0    1    All\n",
      "Actual                      \n",
      "0          16553  676  17229\n",
      "1            606  165    771\n",
      "All        17159  841  18000\n",
      "              precision    recall  f1-score   support\n",
      "\n",
      "           0       0.96      0.96      0.96     17229\n",
      "           1       0.20      0.21      0.20       771\n",
      "\n",
      "    accuracy                           0.93     18000\n",
      "   macro avg       0.58      0.59      0.58     18000\n",
      "weighted avg       0.93      0.93      0.93     18000\n",
      "\n"
     ]
    }
   ],
   "source": [
    "confusion_matrix(y_test,y_pred_d)\n",
    "print(pd.crosstab(y_test, y_pred_d, rownames = ['Actual'], colnames =['Predicted'], margins = True))\n",
    "print(classification_report(y_test, y_pred_d))"
   ]
  },
  {
   "cell_type": "markdown",
   "id": "ce882e40",
   "metadata": {},
   "source": [
    "# Random Forest"
   ]
  },
  {
   "cell_type": "code",
   "execution_count": 10,
   "id": "0a24343c",
   "metadata": {},
   "outputs": [],
   "source": [
    "from sklearn.ensemble import RandomForestClassifier\n",
    "clf_rf = RandomForestClassifier(n_estimators=100,random_state=0)\n",
    "clf_rf.fit(X_train,y_train)\n",
    "y_pred_rfc=clf_rf.predict(X_test)\n",
    "y_pred_rfc_proba=clf_rf.predict_proba(X_test)"
   ]
  },
  {
   "cell_type": "code",
   "execution_count": 12,
   "id": "43960895",
   "metadata": {},
   "outputs": [
    {
     "name": "stdout",
     "output_type": "stream",
     "text": [
      "Accuracy: 0.9587777777777777\n",
      "f1_score: 0.11031175059952039\n",
      "recall_score: 0.05966277561608301\n",
      "precision_score: 0.7301587301587301\n"
     ]
    }
   ],
   "source": [
    "accuracy = accuracy_score(y_test, y_pred_rfc)\n",
    "f1 = f1_score(y_test, y_pred_rfc)\n",
    "recall = recall_score(y_test, y_pred_rfc)\n",
    "precission = precision_score(y_test, y_pred_rfc)\n",
    "\n",
    "print(\"Accuracy:\", accuracy)\n",
    "print(\"f1_score:\", f1)\n",
    "print(\"recall_score:\", recall)\n",
    "print(\"precision_score:\", precission)"
   ]
  },
  {
   "cell_type": "code",
   "execution_count": 11,
   "id": "05eab6fa",
   "metadata": {},
   "outputs": [
    {
     "name": "stdout",
     "output_type": "stream",
     "text": [
      "Predicted      0   1    All\n",
      "Actual                     \n",
      "0          17212  17  17229\n",
      "1            725  46    771\n",
      "All        17937  63  18000\n",
      "              precision    recall  f1-score   support\n",
      "\n",
      "           0       0.96      1.00      0.98     17229\n",
      "           1       0.73      0.06      0.11       771\n",
      "\n",
      "    accuracy                           0.96     18000\n",
      "   macro avg       0.84      0.53      0.54     18000\n",
      "weighted avg       0.95      0.96      0.94     18000\n",
      "\n"
     ]
    }
   ],
   "source": [
    "confusion_matrix(y_test,y_pred_rfc)\n",
    "print(pd.crosstab(y_test, y_pred_rfc, rownames = ['Actual'], colnames =['Predicted'], margins = True))\n",
    "print(classification_report(y_test, y_pred_rfc))"
   ]
  },
  {
   "cell_type": "markdown",
   "id": "e0ef8c0d",
   "metadata": {},
   "source": [
    "# SVM"
   ]
  },
  {
   "cell_type": "code",
   "execution_count": 13,
   "id": "d3c214ab",
   "metadata": {},
   "outputs": [],
   "source": [
    "from sklearn.svm import SVC\n",
    "svm_model_linear = SVC(kernel = 'linear', C = 1).fit(X_train, y_train)\n",
    "y_pred_svm = svm_model_linear.predict(X_test)\n",
    " "
   ]
  },
  {
   "cell_type": "code",
   "execution_count": 14,
   "id": "d9b440d7",
   "metadata": {},
   "outputs": [
    {
     "name": "stdout",
     "output_type": "stream",
     "text": [
      "Accuracy: 0.9573333333333334\n",
      "f1_score: 0.010309278350515464\n",
      "recall_score: 0.005188067444876783\n",
      "precision_score: 0.8\n"
     ]
    }
   ],
   "source": [
    "accuracy = accuracy_score(y_test, y_pred_svm)\n",
    "f1 = f1_score(y_test, y_pred_svm)\n",
    "recall = recall_score(y_test, y_pred_svm)\n",
    "precission = precision_score(y_test, y_pred_svm)\n",
    "\n",
    "print(\"Accuracy:\", accuracy)\n",
    "print(\"f1_score:\", f1)\n",
    "print(\"recall_score:\", recall)\n",
    "print(\"precision_score:\", precission)"
   ]
  },
  {
   "cell_type": "code",
   "execution_count": 15,
   "id": "d3b0f713",
   "metadata": {},
   "outputs": [
    {
     "name": "stdout",
     "output_type": "stream",
     "text": [
      "Predicted      0  1    All\n",
      "Actual                    \n",
      "0          17228  1  17229\n",
      "1            767  4    771\n",
      "All        17995  5  18000\n",
      "              precision    recall  f1-score   support\n",
      "\n",
      "           0       0.96      1.00      0.98     17229\n",
      "           1       0.73      0.06      0.11       771\n",
      "\n",
      "    accuracy                           0.96     18000\n",
      "   macro avg       0.84      0.53      0.54     18000\n",
      "weighted avg       0.95      0.96      0.94     18000\n",
      "\n"
     ]
    }
   ],
   "source": [
    "confusion_matrix(y_test,y_pred_svm)\n",
    "print(pd.crosstab(y_test, y_pred_svm, rownames = ['Actual'], colnames =['Predicted'], margins = True))\n",
    "print(classification_report(y_test, y_pred_rfc))"
   ]
  },
  {
   "cell_type": "markdown",
   "id": "3f0d6aa5",
   "metadata": {},
   "source": [
    "# Naive Bayes"
   ]
  },
  {
   "cell_type": "code",
   "execution_count": 16,
   "id": "a0b33d37",
   "metadata": {},
   "outputs": [],
   "source": [
    "from sklearn.naive_bayes import GaussianNB\n",
    "clf = GaussianNB()\n",
    "clf.fit(X_train,y_train)\n",
    "y_pred_n=clf.predict(X_test)\n",
    "y_pred_n_proba=clf.predict_proba(X_test)"
   ]
  },
  {
   "cell_type": "code",
   "execution_count": 17,
   "id": "52e1cfcf",
   "metadata": {},
   "outputs": [
    {
     "name": "stdout",
     "output_type": "stream",
     "text": [
      "Accuracy: 0.8924444444444445\n",
      "f1_score: 0.1111111111111111\n",
      "recall_score: 0.1569390402075227\n",
      "precision_score: 0.08599857853589196\n"
     ]
    }
   ],
   "source": [
    "accuracy = accuracy_score(y_test, y_pred_n)\n",
    "f1 = f1_score(y_test, y_pred_n)\n",
    "recall = recall_score(y_test, y_pred_n)\n",
    "precission = precision_score(y_test, y_pred_n)\n",
    "\n",
    "print(\"Accuracy:\", accuracy)\n",
    "print(\"f1_score:\", f1)\n",
    "print(\"recall_score:\", recall)\n",
    "print(\"precision_score:\", precission)"
   ]
  },
  {
   "cell_type": "code",
   "execution_count": 18,
   "id": "d3dff227",
   "metadata": {},
   "outputs": [
    {
     "name": "stdout",
     "output_type": "stream",
     "text": [
      "Predicted      0  1    All\n",
      "Actual                    \n",
      "0          17228  1  17229\n",
      "1            767  4    771\n",
      "All        17995  5  18000\n",
      "              precision    recall  f1-score   support\n",
      "\n",
      "           0       0.96      1.00      0.98     17229\n",
      "           1       0.73      0.06      0.11       771\n",
      "\n",
      "    accuracy                           0.96     18000\n",
      "   macro avg       0.84      0.53      0.54     18000\n",
      "weighted avg       0.95      0.96      0.94     18000\n",
      "\n"
     ]
    }
   ],
   "source": [
    "confusion_matrix(y_test,y_pred_svm)\n",
    "print(pd.crosstab(y_test, y_pred_svm, rownames = ['Actual'], colnames =['Predicted'], margins = True))\n",
    "print(classification_report(y_test, y_pred_rfc))"
   ]
  },
  {
   "cell_type": "markdown",
   "id": "d296e27b",
   "metadata": {},
   "source": [
    "# logistic regression"
   ]
  },
  {
   "cell_type": "code",
   "execution_count": 22,
   "id": "1f1bfb70",
   "metadata": {},
   "outputs": [
    {
     "name": "stderr",
     "output_type": "stream",
     "text": [
      "C:\\Users\\100641313\\Anaconda3\\lib\\site-packages\\sklearn\\linear_model\\_logistic.py:814: ConvergenceWarning: lbfgs failed to converge (status=1):\n",
      "STOP: TOTAL NO. of ITERATIONS REACHED LIMIT.\n",
      "\n",
      "Increase the number of iterations (max_iter) or scale the data as shown in:\n",
      "    https://scikit-learn.org/stable/modules/preprocessing.html\n",
      "Please also refer to the documentation for alternative solver options:\n",
      "    https://scikit-learn.org/stable/modules/linear_model.html#logistic-regression\n",
      "  n_iter_i = _check_optimize_result(\n"
     ]
    }
   ],
   "source": [
    "from sklearn.linear_model import LogisticRegression\n",
    "clf = LogisticRegression()\n",
    "clf.fit(X_train,y_train)\n",
    "y_pred_lr=clf.predict(X_test)\n",
    "\n"
   ]
  },
  {
   "cell_type": "code",
   "execution_count": 23,
   "id": "97bb1be4",
   "metadata": {},
   "outputs": [
    {
     "name": "stdout",
     "output_type": "stream",
     "text": [
      "Accuracy: 0.9571666666666667\n",
      "f1_score: 0.0\n",
      "recall_score: 0.0\n",
      "precision_score: 0.0\n"
     ]
    },
    {
     "name": "stderr",
     "output_type": "stream",
     "text": [
      "C:\\Users\\100641313\\Anaconda3\\lib\\site-packages\\sklearn\\metrics\\_classification.py:1318: UndefinedMetricWarning: Precision is ill-defined and being set to 0.0 due to no predicted samples. Use `zero_division` parameter to control this behavior.\n",
      "  _warn_prf(average, modifier, msg_start, len(result))\n"
     ]
    }
   ],
   "source": [
    "accuracy = accuracy_score(y_test, y_pred_lr)\n",
    "f1 = f1_score(y_test, y_pred_lr)\n",
    "recall = recall_score(y_test, y_pred_lr)\n",
    "precission = precision_score(y_test, y_pred_lr)\n",
    "\n",
    "print(\"Accuracy:\", accuracy)\n",
    "print(\"f1_score:\", f1)\n",
    "print(\"recall_score:\", recall)\n",
    "print(\"precision_score:\", precission)"
   ]
  },
  {
   "cell_type": "code",
   "execution_count": 25,
   "id": "15a65ba7",
   "metadata": {},
   "outputs": [
    {
     "name": "stdout",
     "output_type": "stream",
     "text": [
      "Predicted      0    All\n",
      "Actual                 \n",
      "0          17229  17229\n",
      "1            771    771\n",
      "All        18000  18000\n",
      "              precision    recall  f1-score   support\n",
      "\n",
      "           0       0.96      1.00      0.98     17229\n",
      "           1       0.00      0.00      0.00       771\n",
      "\n",
      "    accuracy                           0.96     18000\n",
      "   macro avg       0.48      0.50      0.49     18000\n",
      "weighted avg       0.92      0.96      0.94     18000\n",
      "\n"
     ]
    },
    {
     "name": "stderr",
     "output_type": "stream",
     "text": [
      "C:\\Users\\100641313\\Anaconda3\\lib\\site-packages\\sklearn\\metrics\\_classification.py:1318: UndefinedMetricWarning: Precision and F-score are ill-defined and being set to 0.0 in labels with no predicted samples. Use `zero_division` parameter to control this behavior.\n",
      "  _warn_prf(average, modifier, msg_start, len(result))\n",
      "C:\\Users\\100641313\\Anaconda3\\lib\\site-packages\\sklearn\\metrics\\_classification.py:1318: UndefinedMetricWarning: Precision and F-score are ill-defined and being set to 0.0 in labels with no predicted samples. Use `zero_division` parameter to control this behavior.\n",
      "  _warn_prf(average, modifier, msg_start, len(result))\n",
      "C:\\Users\\100641313\\Anaconda3\\lib\\site-packages\\sklearn\\metrics\\_classification.py:1318: UndefinedMetricWarning: Precision and F-score are ill-defined and being set to 0.0 in labels with no predicted samples. Use `zero_division` parameter to control this behavior.\n",
      "  _warn_prf(average, modifier, msg_start, len(result))\n"
     ]
    }
   ],
   "source": [
    "confusion_matrix(y_test,y_pred_lr)\n",
    "print(pd.crosstab(y_test, y_pred_lr, rownames = ['Actual'], colnames =['Predicted'], margins = True))\n",
    "print(classification_report(y_test, y_pred_lr))"
   ]
  },
  {
   "cell_type": "code",
   "execution_count": 26,
   "id": "4b5283c0",
   "metadata": {},
   "outputs": [
    {
     "name": "stderr",
     "output_type": "stream",
     "text": [
      "C:\\Users\\100641313\\Anaconda3\\lib\\site-packages\\xgboost\\sklearn.py:1224: UserWarning: The use of label encoder in XGBClassifier is deprecated and will be removed in a future release. To remove this warning, do the following: 1) Pass option use_label_encoder=False when constructing XGBClassifier object; and 2) Encode your labels (y) as integers starting with 0, i.e. 0, 1, 2, ..., [num_class - 1].\n",
      "  warnings.warn(label_encoder_deprecation_msg, UserWarning)\n"
     ]
    },
    {
     "name": "stdout",
     "output_type": "stream",
     "text": [
      "[09:30:00] WARNING: C:/Users/Administrator/workspace/xgboost-win64_release_1.5.1/src/learner.cc:1115: Starting in XGBoost 1.3.0, the default evaluation metric used with the objective 'binary:logistic' was changed from 'error' to 'logloss'. Explicitly set eval_metric if you'd like to restore the old behavior.\n"
     ]
    }
   ],
   "source": [
    "from xgboost import XGBClassifier\n",
    "clf = XGBClassifier()\n",
    "clf.fit(X_train,y_train)\n",
    "y_pred_xgb=clf.predict(X_test)\n",
    "y_pred_xgb_proba=clf.predict_proba(X_test)"
   ]
  },
  {
   "cell_type": "code",
   "execution_count": 27,
   "id": "07301a99",
   "metadata": {},
   "outputs": [
    {
     "name": "stdout",
     "output_type": "stream",
     "text": [
      "Accuracy: 0.9577222222222223\n",
      "f1_score: 0.1591160220994475\n",
      "recall_score: 0.0933852140077821\n",
      "precision_score: 0.5373134328358209\n"
     ]
    }
   ],
   "source": [
    "accuracy = accuracy_score(y_test, y_pred_xgb)\n",
    "f1 = f1_score(y_test, y_pred_xgb)\n",
    "recall = recall_score(y_test, y_pred_xgb)\n",
    "precission = precision_score(y_test, y_pred_xgb)\n",
    "\n",
    "print(\"Accuracy:\", accuracy)\n",
    "print(\"f1_score:\", f1)\n",
    "print(\"recall_score:\", recall)\n",
    "print(\"precision_score:\", precission)"
   ]
  },
  {
   "cell_type": "code",
   "execution_count": 28,
   "id": "c88be103",
   "metadata": {},
   "outputs": [
    {
     "name": "stdout",
     "output_type": "stream",
     "text": [
      "Predicted      0    1    All\n",
      "Actual                      \n",
      "0          17167   62  17229\n",
      "1            699   72    771\n",
      "All        17866  134  18000\n",
      "              precision    recall  f1-score   support\n",
      "\n",
      "           0       0.96      1.00      0.98     17229\n",
      "           1       0.54      0.09      0.16       771\n",
      "\n",
      "    accuracy                           0.96     18000\n",
      "   macro avg       0.75      0.54      0.57     18000\n",
      "weighted avg       0.94      0.96      0.94     18000\n",
      "\n"
     ]
    }
   ],
   "source": [
    "confusion_matrix(y_test,y_pred_xgb)\n",
    "print(pd.crosstab(y_test, y_pred_xgb, rownames = ['Actual'], colnames =['Predicted'], margins = True))\n",
    "print(classification_report(y_test, y_pred_xgb))"
   ]
  },
  {
   "cell_type": "markdown",
   "id": "32f250ec",
   "metadata": {},
   "source": [
    "# Comparison among ML models"
   ]
  },
  {
   "cell_type": "code",
   "execution_count": 50,
   "id": "196b7a11",
   "metadata": {},
   "outputs": [],
   "source": [
    "metric=pd.read_csv('evaluation_metric.csv',engine=None)"
   ]
  },
  {
   "cell_type": "code",
   "execution_count": 63,
   "id": "fae746d9",
   "metadata": {},
   "outputs": [],
   "source": [
    "import seaborn as sns\n",
    "import matplotlib.pyplot as plt\n",
    "plt.rcParams[\"figure.figsize\"] = (20,10)\n",
    "plt.rcParams.update({'font.size': 16})\n",
    "plt.rc('xtick', labelsize=20) \n",
    "plt.rc('ytick', labelsize=20)"
   ]
  },
  {
   "cell_type": "code",
   "execution_count": 51,
   "id": "16498e71",
   "metadata": {},
   "outputs": [
    {
     "data": {
      "text/plain": [
       "<AxesSubplot:xlabel='Model'>"
      ]
     },
     "execution_count": 51,
     "metadata": {},
     "output_type": "execute_result"
    },
    {
     "data": {
      "image/png": "[encoded data removed]",
      "text/plain": [
       "<Figure size 432x288 with 1 Axes>"
      ]
     },
     "metadata": {
      "needs_background": "light"
     },
     "output_type": "display_data"
    }
   ],
   "source": [
    "metric.pivot(index='Model', columns='Matrix', values='Score').plot(kind='bar',width=0.9,color=['navy','teal','cyan'],hatch='*')"
   ]
  },
  {
   "cell_type": "markdown",
   "id": "ce282fc2",
   "metadata": {},
   "source": [
    "# model with balance weight"
   ]
  },
  {
   "cell_type": "markdown",
   "id": "5a33826e",
   "metadata": {},
   "source": [
    "# Decission Tree"
   ]
  },
  {
   "cell_type": "code",
   "execution_count": 51,
   "id": "9815118a",
   "metadata": {},
   "outputs": [],
   "source": [
    "from sklearn.tree import DecisionTreeClassifier\n",
    "clf = DecisionTreeClassifier(random_state=0,class_weight='balanced')\n",
    "clf.fit(X_train,y_train)\n",
    "y_pred_d_b=clf.predict(X_test)"
   ]
  },
  {
   "cell_type": "code",
   "execution_count": 52,
   "id": "56712896",
   "metadata": {},
   "outputs": [
    {
     "name": "stdout",
     "output_type": "stream",
     "text": [
      "Accuracy: 0.9325\n",
      "F1 Score: 0.17290673927842068\n",
      "precission 0.1819484240687679\n",
      "recall 0.16472114137483787\n"
     ]
    }
   ],
   "source": [
    "from sklearn.metrics import accuracy_score, f1_score, precision_score, recall_score\n",
    "ac = accuracy_score(y_test, y_pred_d_b)\n",
    "f_score = f1_score(y_test ,y_pred_d_b)\n",
    "p_score = precision_score(y_test, y_pred_d_b)\n",
    "r_score = recall_score(y_test ,y_pred_d_b)\n",
    "print(\"Accuracy:\", ac)\n",
    "print(\"F1 Score:\", f_score)\n",
    "print('precission',p_score)\n",
    "print('recall',r_score)"
   ]
  },
  {
   "cell_type": "code",
   "execution_count": 53,
   "id": "7b0dc061",
   "metadata": {},
   "outputs": [
    {
     "name": "stdout",
     "output_type": "stream",
     "text": [
      "Predicted      0    1    All\n",
      "Actual                      \n",
      "0          16658  571  17229\n",
      "1            644  127    771\n",
      "All        17302  698  18000\n",
      "              precision    recall  f1-score   support\n",
      "\n",
      "           0       0.96      0.97      0.96     17229\n",
      "           1       0.18      0.16      0.17       771\n",
      "\n",
      "    accuracy                           0.93     18000\n",
      "   macro avg       0.57      0.57      0.57     18000\n",
      "weighted avg       0.93      0.93      0.93     18000\n",
      "\n"
     ]
    }
   ],
   "source": [
    "confusion_matrix(y_test,y_pred_d_b)\n",
    "print(pd.crosstab(y_test, y_pred_d_b, rownames = ['Actual'], colnames =['Predicted'], margins = True))\n",
    "print(classification_report(y_test, y_pred_d_b))"
   ]
  },
  {
   "cell_type": "markdown",
   "id": "4d20f131",
   "metadata": {},
   "source": [
    "# XGBoost"
   ]
  },
  {
   "cell_type": "code",
   "execution_count": 17,
   "id": "ba725fc1",
   "metadata": {},
   "outputs": [],
   "source": [
    "from sklearn.utils.class_weight import compute_sample_weight\n",
    "sample_weights = compute_sample_weight(\n",
    "    class_weight='balanced',\n",
    "    y=data['CollisionInfo'] #provide your own target name\n",
    ")"
   ]
  },
  {
   "cell_type": "code",
   "execution_count": 18,
   "id": "3075ce34",
   "metadata": {},
   "outputs": [
    {
     "name": "stderr",
     "output_type": "stream",
     "text": [
      "The use of label encoder in XGBClassifier is deprecated and will be removed in a future release. To remove this warning, do the following: 1) Pass option use_label_encoder=False when constructing XGBClassifier object; and 2) Encode your labels (y) as integers starting with 0, i.e. 0, 1, 2, ..., [num_class - 1].\n"
     ]
    },
    {
     "name": "stdout",
     "output_type": "stream",
     "text": [
      "[09:35:01] WARNING: C:/Users/Administrator/workspace/xgboost-win64_release_1.5.1/src/learner.cc:1115: Starting in XGBoost 1.3.0, the default evaluation metric used with the objective 'binary:logistic' was changed from 'error' to 'logloss'. Explicitly set eval_metric if you'd like to restore the old behavior.\n"
     ]
    }
   ],
   "source": [
    "xgb_classifier=XGBClassifier()\n",
    "xgb_classifier.fit(X, y, sample_weight=sample_weights)\n",
    "\n",
    "y_pred_xgb=xgb_classifier.predict(X_test)"
   ]
  },
  {
   "cell_type": "code",
   "execution_count": 19,
   "id": "c8b92eef",
   "metadata": {},
   "outputs": [
    {
     "name": "stdout",
     "output_type": "stream",
     "text": [
      "Accuracy: 0.8745555555555555\n",
      "f1_score: 0.3903887688984881\n",
      "recall_score: 0.9377431906614786\n",
      "precision_score: 0.2465052846914422\n"
     ]
    }
   ],
   "source": [
    "accuracy = accuracy_score(y_test, y_pred_xgb)\n",
    "f1 = f1_score(y_test, y_pred_xgb)\n",
    "recall = recall_score(y_test, y_pred_xgb)\n",
    "precission = precision_score(y_test, y_pred_xgb)\n",
    "\n",
    "print(\"Accuracy:\", accuracy)\n",
    "print(\"f1_score:\", f1)\n",
    "print(\"recall_score:\", recall)\n",
    "print(\"precision_score:\", precission)"
   ]
  },
  {
   "cell_type": "code",
   "execution_count": 20,
   "id": "0d8d28b4",
   "metadata": {
    "scrolled": true
   },
   "outputs": [
    {
     "name": "stdout",
     "output_type": "stream",
     "text": [
      "Predicted      0     1    All\n",
      "Actual                       \n",
      "0          15019  2210  17229\n",
      "1             48   723    771\n",
      "All        15067  2933  18000\n",
      "              precision    recall  f1-score   support\n",
      "\n",
      "           0       1.00      0.87      0.93     17229\n",
      "           1       0.25      0.94      0.39       771\n",
      "\n",
      "    accuracy                           0.87     18000\n",
      "   macro avg       0.62      0.90      0.66     18000\n",
      "weighted avg       0.96      0.87      0.91     18000\n",
      "\n"
     ]
    }
   ],
   "source": [
    "confusion_matrix(y_test,y_pred_xgb)\n",
    "print(pd.crosstab(y_test, y_pred_xgb, rownames = ['Actual'], colnames =['Predicted'], margins = True))\n",
    "print(classification_report(y_test, y_pred_xgb))"
   ]
  },
  {
   "cell_type": "code",
   "execution_count": 52,
   "id": "080ac551",
   "metadata": {},
   "outputs": [],
   "source": [
    "metric_weighted=pd.read_csv('evaluation_metric_weighted.csv',engine=None)\n"
   ]
  },
  {
   "cell_type": "code",
   "execution_count": 71,
   "id": "a0a112b6",
   "metadata": {},
   "outputs": [
    {
     "data": {
      "text/plain": [
       "<AxesSubplot:xlabel='Model'>"
      ]
     },
     "execution_count": 71,
     "metadata": {},
     "output_type": "execute_result"
    },
    {
     "data": {
      "image/png": "[encoded data removed]",
      "text/plain": [
       "<Figure size 432x288 with 1 Axes>"
      ]
     },
     "metadata": {
      "needs_background": "light"
     },
     "output_type": "display_data"
    }
   ],
   "source": [
    "metric_weighted.pivot(index='Model', columns='Matrix', values='Score').plot(kind='bar',width=0.9,color=['pink','plum','purple'],hatch='-')"
   ]
  },
  {
   "cell_type": "markdown",
   "id": "1b6bff40",
   "metadata": {},
   "source": [
    "# Feature Importance"
   ]
  },
  {
   "cell_type": "code",
   "execution_count": 65,
   "id": "665bf12b",
   "metadata": {},
   "outputs": [
    {
     "data": {
      "image/png": "[encoded data removed]",
      "text/plain": [
       "<Figure size 1440x720 with 1 Axes>"
      ]
     },
     "metadata": {
      "needs_background": "light"
     },
     "output_type": "display_data"
    }
   ],
   "source": [
    "feat_importances = pd.Series(xgb_classifier.feature_importances_, index=X_train.columns)\n",
    "feat_importances.nlargest(15).plot(kind='barh')\n",
    "plt.show()"
   ]
  },
  {
   "cell_type": "code",
   "execution_count": 72,
   "id": "45d5a2fd",
   "metadata": {},
   "outputs": [
    {
     "data": {
      "text/plain": [
       "Traffic_Light           0.208547\n",
       "vehicle_count           0.078986\n",
       "weather                 0.077695\n",
       "speed                   0.057497\n",
       "pedestrian_count        0.057143\n",
       "timeofDay               0.055285\n",
       "trafficRule_sidewalk    0.052462\n",
       "brake                   0.046589\n",
       "acceleration            0.040394\n",
       "steering_target         0.038461\n",
       "ego_operation           0.038287\n",
       "Weather_fog             0.035594\n",
       "Weather_rain            0.035379\n",
       "throttle                0.032295\n",
       "Weather_wetness         0.031758\n",
       "dtype: float32"
      ]
     },
     "execution_count": 72,
     "metadata": {},
     "output_type": "execute_result"
    }
   ],
   "source": [
    "feat_importances=feat_importances.nlargest(15)\n",
    "feat_importances"
   ]
  },
  {
   "cell_type": "code",
   "execution_count": 70,
   "id": "9b40b6f1",
   "metadata": {},
   "outputs": [
    {
     "data": {
      "text/html": [
       "<div>\n",
       "<style scoped>\n",
       "    .dataframe tbody tr th:only-of-type {\n",
       "        vertical-align: middle;\n",
       "    }\n",
       "\n",
       "    .dataframe tbody tr th {\n",
       "        vertical-align: top;\n",
       "    }\n",
       "\n",
       "    .dataframe thead th {\n",
       "        text-align: right;\n",
       "    }\n",
       "</style>\n",
       "<table border=\"1\" class=\"dataframe\">\n",
       "  <thead>\n",
       "    <tr style=\"text-align: right;\">\n",
       "      <th></th>\n",
       "      <th>acceleration</th>\n",
       "      <th>throttle</th>\n",
       "      <th>steering_target</th>\n",
       "      <th>brake</th>\n",
       "      <th>steering_rate</th>\n",
       "      <th>speed</th>\n",
       "      <th>ego_operation</th>\n",
       "      <th>ego_speed</th>\n",
       "      <th>timeofDay</th>\n",
       "      <th>trafficRule_sidewalk</th>\n",
       "      <th>...</th>\n",
       "      <th>Weather_wetness</th>\n",
       "      <th>pedestrian_count</th>\n",
       "      <th>vehicle_count</th>\n",
       "      <th>weather</th>\n",
       "      <th>test_scenario_number</th>\n",
       "      <th>Traffic_Light</th>\n",
       "      <th>Demand</th>\n",
       "      <th>Diversity</th>\n",
       "      <th>Diversity_AVG</th>\n",
       "      <th>Collision_Probability</th>\n",
       "    </tr>\n",
       "  </thead>\n",
       "  <tbody>\n",
       "    <tr>\n",
       "      <th>0</th>\n",
       "      <td>1.21</td>\n",
       "      <td>15.70</td>\n",
       "      <td>0.68</td>\n",
       "      <td>0.0</td>\n",
       "      <td>100.0</td>\n",
       "      <td>5.15</td>\n",
       "      <td>1</td>\n",
       "      <td>3</td>\n",
       "      <td>1</td>\n",
       "      <td>0</td>\n",
       "      <td>...</td>\n",
       "      <td>0</td>\n",
       "      <td>0</td>\n",
       "      <td>0</td>\n",
       "      <td>0</td>\n",
       "      <td>0</td>\n",
       "      <td>3</td>\n",
       "      <td>6</td>\n",
       "      <td>12053</td>\n",
       "      <td>0.201</td>\n",
       "      <td>0.742</td>\n",
       "    </tr>\n",
       "    <tr>\n",
       "      <th>1</th>\n",
       "      <td>0.81</td>\n",
       "      <td>23.40</td>\n",
       "      <td>0.50</td>\n",
       "      <td>0.0</td>\n",
       "      <td>100.0</td>\n",
       "      <td>6.24</td>\n",
       "      <td>1</td>\n",
       "      <td>3</td>\n",
       "      <td>1</td>\n",
       "      <td>0</td>\n",
       "      <td>...</td>\n",
       "      <td>0</td>\n",
       "      <td>0</td>\n",
       "      <td>0</td>\n",
       "      <td>0</td>\n",
       "      <td>1</td>\n",
       "      <td>3</td>\n",
       "      <td>0</td>\n",
       "      <td>13470</td>\n",
       "      <td>0.225</td>\n",
       "      <td>0.074</td>\n",
       "    </tr>\n",
       "    <tr>\n",
       "      <th>2</th>\n",
       "      <td>1.12</td>\n",
       "      <td>15.70</td>\n",
       "      <td>0.44</td>\n",
       "      <td>0.0</td>\n",
       "      <td>100.0</td>\n",
       "      <td>6.38</td>\n",
       "      <td>1</td>\n",
       "      <td>3</td>\n",
       "      <td>1</td>\n",
       "      <td>0</td>\n",
       "      <td>...</td>\n",
       "      <td>0</td>\n",
       "      <td>0</td>\n",
       "      <td>0</td>\n",
       "      <td>0</td>\n",
       "      <td>2</td>\n",
       "      <td>3</td>\n",
       "      <td>7</td>\n",
       "      <td>12234</td>\n",
       "      <td>0.204</td>\n",
       "      <td>0.718</td>\n",
       "    </tr>\n",
       "    <tr>\n",
       "      <th>3</th>\n",
       "      <td>1.42</td>\n",
       "      <td>31.76</td>\n",
       "      <td>0.44</td>\n",
       "      <td>0.0</td>\n",
       "      <td>100.0</td>\n",
       "      <td>6.60</td>\n",
       "      <td>1</td>\n",
       "      <td>3</td>\n",
       "      <td>1</td>\n",
       "      <td>0</td>\n",
       "      <td>...</td>\n",
       "      <td>0</td>\n",
       "      <td>0</td>\n",
       "      <td>0</td>\n",
       "      <td>0</td>\n",
       "      <td>3</td>\n",
       "      <td>3</td>\n",
       "      <td>19</td>\n",
       "      <td>12199</td>\n",
       "      <td>0.203</td>\n",
       "      <td>0.985</td>\n",
       "    </tr>\n",
       "    <tr>\n",
       "      <th>4</th>\n",
       "      <td>0.90</td>\n",
       "      <td>24.20</td>\n",
       "      <td>0.54</td>\n",
       "      <td>0.0</td>\n",
       "      <td>100.0</td>\n",
       "      <td>7.03</td>\n",
       "      <td>1</td>\n",
       "      <td>3</td>\n",
       "      <td>1</td>\n",
       "      <td>0</td>\n",
       "      <td>...</td>\n",
       "      <td>0</td>\n",
       "      <td>0</td>\n",
       "      <td>0</td>\n",
       "      <td>0</td>\n",
       "      <td>4</td>\n",
       "      <td>3</td>\n",
       "      <td>5</td>\n",
       "      <td>11846</td>\n",
       "      <td>0.197</td>\n",
       "      <td>0.454</td>\n",
       "    </tr>\n",
       "    <tr>\n",
       "      <th>...</th>\n",
       "      <td>...</td>\n",
       "      <td>...</td>\n",
       "      <td>...</td>\n",
       "      <td>...</td>\n",
       "      <td>...</td>\n",
       "      <td>...</td>\n",
       "      <td>...</td>\n",
       "      <td>...</td>\n",
       "      <td>...</td>\n",
       "      <td>...</td>\n",
       "      <td>...</td>\n",
       "      <td>...</td>\n",
       "      <td>...</td>\n",
       "      <td>...</td>\n",
       "      <td>...</td>\n",
       "      <td>...</td>\n",
       "      <td>...</td>\n",
       "      <td>...</td>\n",
       "      <td>...</td>\n",
       "      <td>...</td>\n",
       "      <td>...</td>\n",
       "    </tr>\n",
       "    <tr>\n",
       "      <th>59995</th>\n",
       "      <td>-0.30</td>\n",
       "      <td>0.00</td>\n",
       "      <td>0.16</td>\n",
       "      <td>14.5</td>\n",
       "      <td>100.0</td>\n",
       "      <td>0.71</td>\n",
       "      <td>3</td>\n",
       "      <td>2</td>\n",
       "      <td>1</td>\n",
       "      <td>0</td>\n",
       "      <td>...</td>\n",
       "      <td>0</td>\n",
       "      <td>0</td>\n",
       "      <td>0</td>\n",
       "      <td>0</td>\n",
       "      <td>59995</td>\n",
       "      <td>3</td>\n",
       "      <td>5</td>\n",
       "      <td>10533</td>\n",
       "      <td>0.176</td>\n",
       "      <td>0.593</td>\n",
       "    </tr>\n",
       "    <tr>\n",
       "      <th>59996</th>\n",
       "      <td>0.74</td>\n",
       "      <td>75.18</td>\n",
       "      <td>0.15</td>\n",
       "      <td>0.0</td>\n",
       "      <td>100.0</td>\n",
       "      <td>0.80</td>\n",
       "      <td>1</td>\n",
       "      <td>2</td>\n",
       "      <td>1</td>\n",
       "      <td>0</td>\n",
       "      <td>...</td>\n",
       "      <td>0</td>\n",
       "      <td>0</td>\n",
       "      <td>0</td>\n",
       "      <td>0</td>\n",
       "      <td>59996</td>\n",
       "      <td>3</td>\n",
       "      <td>1</td>\n",
       "      <td>10533</td>\n",
       "      <td>0.176</td>\n",
       "      <td>0.087</td>\n",
       "    </tr>\n",
       "    <tr>\n",
       "      <th>59997</th>\n",
       "      <td>1.14</td>\n",
       "      <td>34.06</td>\n",
       "      <td>0.10</td>\n",
       "      <td>0.0</td>\n",
       "      <td>100.0</td>\n",
       "      <td>1.97</td>\n",
       "      <td>1</td>\n",
       "      <td>2</td>\n",
       "      <td>1</td>\n",
       "      <td>0</td>\n",
       "      <td>...</td>\n",
       "      <td>0</td>\n",
       "      <td>0</td>\n",
       "      <td>0</td>\n",
       "      <td>0</td>\n",
       "      <td>59997</td>\n",
       "      <td>3</td>\n",
       "      <td>5</td>\n",
       "      <td>10533</td>\n",
       "      <td>0.176</td>\n",
       "      <td>0.369</td>\n",
       "    </tr>\n",
       "    <tr>\n",
       "      <th>59998</th>\n",
       "      <td>0.73</td>\n",
       "      <td>61.19</td>\n",
       "      <td>0.18</td>\n",
       "      <td>0.0</td>\n",
       "      <td>100.0</td>\n",
       "      <td>2.77</td>\n",
       "      <td>1</td>\n",
       "      <td>2</td>\n",
       "      <td>1</td>\n",
       "      <td>0</td>\n",
       "      <td>...</td>\n",
       "      <td>0</td>\n",
       "      <td>0</td>\n",
       "      <td>0</td>\n",
       "      <td>0</td>\n",
       "      <td>59998</td>\n",
       "      <td>3</td>\n",
       "      <td>5</td>\n",
       "      <td>10533</td>\n",
       "      <td>0.176</td>\n",
       "      <td>0.652</td>\n",
       "    </tr>\n",
       "    <tr>\n",
       "      <th>59999</th>\n",
       "      <td>1.31</td>\n",
       "      <td>77.08</td>\n",
       "      <td>0.13</td>\n",
       "      <td>0.0</td>\n",
       "      <td>100.0</td>\n",
       "      <td>3.19</td>\n",
       "      <td>1</td>\n",
       "      <td>2</td>\n",
       "      <td>1</td>\n",
       "      <td>0</td>\n",
       "      <td>...</td>\n",
       "      <td>0</td>\n",
       "      <td>0</td>\n",
       "      <td>0</td>\n",
       "      <td>0</td>\n",
       "      <td>59999</td>\n",
       "      <td>3</td>\n",
       "      <td>1</td>\n",
       "      <td>10533</td>\n",
       "      <td>0.176</td>\n",
       "      <td>0.087</td>\n",
       "    </tr>\n",
       "  </tbody>\n",
       "</table>\n",
       "<p>60000 rows × 23 columns</p>\n",
       "</div>"
      ],
      "text/plain": [
       "       acceleration  throttle  steering_target  brake  steering_rate  speed  \\\n",
       "0              1.21     15.70             0.68    0.0          100.0   5.15   \n",
       "1              0.81     23.40             0.50    0.0          100.0   6.24   \n",
       "2              1.12     15.70             0.44    0.0          100.0   6.38   \n",
       "3              1.42     31.76             0.44    0.0          100.0   6.60   \n",
       "4              0.90     24.20             0.54    0.0          100.0   7.03   \n",
       "...             ...       ...              ...    ...            ...    ...   \n",
       "59995         -0.30      0.00             0.16   14.5          100.0   0.71   \n",
       "59996          0.74     75.18             0.15    0.0          100.0   0.80   \n",
       "59997          1.14     34.06             0.10    0.0          100.0   1.97   \n",
       "59998          0.73     61.19             0.18    0.0          100.0   2.77   \n",
       "59999          1.31     77.08             0.13    0.0          100.0   3.19   \n",
       "\n",
       "       ego_operation  ego_speed  timeofDay  trafficRule_sidewalk  ...  \\\n",
       "0                  1          3          1                     0  ...   \n",
       "1                  1          3          1                     0  ...   \n",
       "2                  1          3          1                     0  ...   \n",
       "3                  1          3          1                     0  ...   \n",
       "4                  1          3          1                     0  ...   \n",
       "...              ...        ...        ...                   ...  ...   \n",
       "59995              3          2          1                     0  ...   \n",
       "59996              1          2          1                     0  ...   \n",
       "59997              1          2          1                     0  ...   \n",
       "59998              1          2          1                     0  ...   \n",
       "59999              1          2          1                     0  ...   \n",
       "\n",
       "       Weather_wetness  pedestrian_count  vehicle_count  weather  \\\n",
       "0                    0                 0              0        0   \n",
       "1                    0                 0              0        0   \n",
       "2                    0                 0              0        0   \n",
       "3                    0                 0              0        0   \n",
       "4                    0                 0              0        0   \n",
       "...                ...               ...            ...      ...   \n",
       "59995                0                 0              0        0   \n",
       "59996                0                 0              0        0   \n",
       "59997                0                 0              0        0   \n",
       "59998                0                 0              0        0   \n",
       "59999                0                 0              0        0   \n",
       "\n",
       "       test_scenario_number  Traffic_Light  Demand  Diversity  Diversity_AVG  \\\n",
       "0                         0              3       6      12053          0.201   \n",
       "1                         1              3       0      13470          0.225   \n",
       "2                         2              3       7      12234          0.204   \n",
       "3                         3              3      19      12199          0.203   \n",
       "4                         4              3       5      11846          0.197   \n",
       "...                     ...            ...     ...        ...            ...   \n",
       "59995                 59995              3       5      10533          0.176   \n",
       "59996                 59996              3       1      10533          0.176   \n",
       "59997                 59997              3       5      10533          0.176   \n",
       "59998                 59998              3       5      10533          0.176   \n",
       "59999                 59999              3       1      10533          0.176   \n",
       "\n",
       "       Collision_Probability  \n",
       "0                      0.742  \n",
       "1                      0.074  \n",
       "2                      0.718  \n",
       "3                      0.985  \n",
       "4                      0.454  \n",
       "...                      ...  \n",
       "59995                  0.593  \n",
       "59996                  0.087  \n",
       "59997                  0.369  \n",
       "59998                  0.652  \n",
       "59999                  0.087  \n",
       "\n",
       "[60000 rows x 23 columns]"
      ]
     },
     "execution_count": 70,
     "metadata": {},
     "output_type": "execute_result"
    }
   ],
   "source": [
    "data"
   ]
  },
  {
   "cell_type": "code",
   "execution_count": 73,
   "id": "0c308eef",
   "metadata": {},
   "outputs": [],
   "source": [
    "X=data[['Traffic_Light','vehicle_count','weather','speed','pedestrian_count','timeofDay','trafficRule_sidewalk','brake','acceleration','steering_target','ego_operation','Weather_fog','Weather_rain','throttle','Weather_wetness']] # Features\n",
    "y=data['CollisionInfo']\n",
    "# Split dataset into training set and test set\n",
    "X_train, X_test, y_train, y_test = train_test_split(X, y, test_size=0.3,random_state=0)"
   ]
  },
  {
   "cell_type": "code",
   "execution_count": 84,
   "id": "821c4f49",
   "metadata": {},
   "outputs": [],
   "source": [
    "from sklearn.utils.class_weight import compute_sample_weight\n",
    "sample_weights = compute_sample_weight(\n",
    "    class_weight='balanced',\n",
    "    y=data['CollisionInfo'] #provide your own target name\n",
    ")"
   ]
  },
  {
   "cell_type": "code",
   "execution_count": 86,
   "id": "e8221503",
   "metadata": {},
   "outputs": [
    {
     "name": "stdout",
     "output_type": "stream",
     "text": [
      "[14:29:51] WARNING: C:/Users/Administrator/workspace/xgboost-win64_release_1.5.1/src/learner.cc:1115: Starting in XGBoost 1.3.0, the default evaluation metric used with the objective 'binary:logistic' was changed from 'error' to 'logloss'. Explicitly set eval_metric if you'd like to restore the old behavior.\n"
     ]
    }
   ],
   "source": [
    "xgb_classifier=XGBClassifier()\n",
    "xgb_classifier.fit(X, y, sample_weight=sample_weights)\n",
    "\n",
    "y_pred_xgb=xgb_classifier.predict(X_test)\n",
    "y_pred_xgb_proba=xgb_classifier.predict_proba(X_test)"
   ]
  },
  {
   "cell_type": "code",
   "execution_count": 87,
   "id": "44de751c",
   "metadata": {},
   "outputs": [
    {
     "name": "stdout",
     "output_type": "stream",
     "text": [
      "Accuracy: 0.92085\n",
      "f1_score: 0.42665700833031506\n",
      "recall_score: 0.9671592775041051\n",
      "precision_score: 0.2736988847583643\n"
     ]
    }
   ],
   "source": [
    "accuracy = accuracy_score(y_test, y_pred_xgb)\n",
    "f1 = f1_score(y_test, y_pred_xgb)\n",
    "recall = recall_score(y_test, y_pred_xgb)\n",
    "precission = precision_score(y_test, y_pred_xgb)\n",
    "\n",
    "print(\"Accuracy:\", accuracy)\n",
    "print(\"f1_score:\", f1)\n",
    "print(\"recall_score:\", recall)\n",
    "print(\"precision_score:\", precission)"
   ]
  },
  {
   "cell_type": "code",
   "execution_count": 88,
   "id": "636f2dbc",
   "metadata": {},
   "outputs": [
    {
     "data": {
      "text/plain": [
       "array([[0.43500733, 0.56499267],\n",
       "       [0.5799742 , 0.42002583],\n",
       "       [0.72757536, 0.27242464],\n",
       "       ...,\n",
       "       [0.93068796, 0.06931204],\n",
       "       [0.8282622 , 0.17173779],\n",
       "       [0.90846   , 0.09153996]], dtype=float32)"
      ]
     },
     "execution_count": 88,
     "metadata": {},
     "output_type": "execute_result"
    }
   ],
   "source": [
    "y_pred_xgb_proba"
   ]
  },
  {
   "cell_type": "markdown",
   "id": "0a8bbc3a",
   "metadata": {},
   "source": [
    "# Ego_vehicle Feature_set"
   ]
  },
  {
   "cell_type": "code",
   "execution_count": 22,
   "id": "b2e21256",
   "metadata": {},
   "outputs": [],
   "source": [
    "X=data[['acceleration','speed','steering_target','brake','ego_operation','ego_speed','steering_rate','throttle']] # Features\n",
    "y=data['CollisionInfo']\n",
    "# Split dataset into training set and test set\n",
    "X_train, X_test, y_train, y_test = train_test_split(X, y, test_size=0.3,random_state=0)"
   ]
  },
  {
   "cell_type": "code",
   "execution_count": 24,
   "id": "79ae3d7b",
   "metadata": {},
   "outputs": [
    {
     "name": "stderr",
     "output_type": "stream",
     "text": [
      "The use of label encoder in XGBClassifier is deprecated and will be removed in a future release. To remove this warning, do the following: 1) Pass option use_label_encoder=False when constructing XGBClassifier object; and 2) Encode your labels (y) as integers starting with 0, i.e. 0, 1, 2, ..., [num_class - 1].\n"
     ]
    },
    {
     "name": "stdout",
     "output_type": "stream",
     "text": [
      "[18:21:43] WARNING: C:/Users/Administrator/workspace/xgboost-win64_release_1.5.1/src/learner.cc:1115: Starting in XGBoost 1.3.0, the default evaluation metric used with the objective 'binary:logistic' was changed from 'error' to 'logloss'. Explicitly set eval_metric if you'd like to restore the old behavior.\n"
     ]
    }
   ],
   "source": [
    "xgb_classifier=XGBClassifier()\n",
    "xgb_classifier.fit(X, y, sample_weight=sample_weights)\n",
    "\n",
    "y_pred_xgb=xgb_classifier.predict(X_test)"
   ]
  },
  {
   "cell_type": "code",
   "execution_count": 25,
   "id": "c7e387a8",
   "metadata": {},
   "outputs": [
    {
     "name": "stdout",
     "output_type": "stream",
     "text": [
      "Accuracy: 0.7857777777777778\n",
      "f1_score: 0.26243305279265494\n",
      "recall_score: 0.8897535667963683\n",
      "precision_score: 0.15391518958940992\n"
     ]
    }
   ],
   "source": [
    "accuracy = accuracy_score(y_test, y_pred_xgb)\n",
    "f1 = f1_score(y_test, y_pred_xgb)\n",
    "recall = recall_score(y_test, y_pred_xgb)\n",
    "precission = precision_score(y_test, y_pred_xgb)\n",
    "\n",
    "print(\"Accuracy:\", accuracy)\n",
    "print(\"f1_score:\", f1)\n",
    "print(\"recall_score:\", recall)\n",
    "print(\"precision_score:\", precission)"
   ]
  },
  {
   "cell_type": "markdown",
   "id": "d9d8e1b4",
   "metadata": {},
   "source": [
    "# Previous study feature set"
   ]
  },
  {
   "cell_type": "code",
   "execution_count": 26,
   "id": "615f371f",
   "metadata": {},
   "outputs": [],
   "source": [
    "X=data[['Demand','Diversity','Diversity_AVG','Collision_Probability']] # Features\n",
    "y=data['CollisionInfo']\n",
    "# Split dataset into training set and test set\n",
    "X_train, X_test, y_train, y_test = train_test_split(X, y, test_size=0.3,random_state=0)"
   ]
  },
  {
   "cell_type": "code",
   "execution_count": 27,
   "id": "d41145a9",
   "metadata": {},
   "outputs": [
    {
     "name": "stderr",
     "output_type": "stream",
     "text": [
      "The use of label encoder in XGBClassifier is deprecated and will be removed in a future release. To remove this warning, do the following: 1) Pass option use_label_encoder=False when constructing XGBClassifier object; and 2) Encode your labels (y) as integers starting with 0, i.e. 0, 1, 2, ..., [num_class - 1].\n"
     ]
    },
    {
     "name": "stdout",
     "output_type": "stream",
     "text": [
      "[18:24:19] WARNING: C:/Users/Administrator/workspace/xgboost-win64_release_1.5.1/src/learner.cc:1115: Starting in XGBoost 1.3.0, the default evaluation metric used with the objective 'binary:logistic' was changed from 'error' to 'logloss'. Explicitly set eval_metric if you'd like to restore the old behavior.\n"
     ]
    }
   ],
   "source": [
    "xgb_classifier=XGBClassifier()\n",
    "xgb_classifier.fit(X, y, sample_weight=sample_weights)\n",
    "\n",
    "y_pred_xgb=xgb_classifier.predict(X_test)"
   ]
  },
  {
   "cell_type": "code",
   "execution_count": 28,
   "id": "ad297198",
   "metadata": {},
   "outputs": [
    {
     "name": "stdout",
     "output_type": "stream",
     "text": [
      "Accuracy: 0.7695555555555555\n",
      "f1_score: 0.2471869328493648\n",
      "recall_score: 0.8832684824902723\n",
      "precision_score: 0.14370120278539777\n"
     ]
    }
   ],
   "source": [
    "accuracy = accuracy_score(y_test, y_pred_xgb)\n",
    "f1 = f1_score(y_test, y_pred_xgb)\n",
    "recall = recall_score(y_test, y_pred_xgb)\n",
    "precission = precision_score(y_test, y_pred_xgb)\n",
    "\n",
    "print(\"Accuracy:\", accuracy)\n",
    "print(\"f1_score:\", f1)\n",
    "print(\"recall_score:\", recall)\n",
    "print(\"precision_score:\", precission)"
   ]
  },
  {
   "cell_type": "code",
   "execution_count": 21,
   "id": "8278d522",
   "metadata": {},
   "outputs": [
    {
     "name": "stdout",
     "output_type": "stream",
     "text": [
      "<class 'pandas.core.frame.DataFrame'>\n",
      "RangeIndex: 60000 entries, 0 to 59999\n",
      "Data columns (total 23 columns):\n",
      " #   Column                 Non-Null Count  Dtype  \n",
      "---  ------                 --------------  -----  \n",
      " 0   acceleration           60000 non-null  float64\n",
      " 1   throttle               60000 non-null  float64\n",
      " 2   steering_target        60000 non-null  float64\n",
      " 3   brake                  60000 non-null  float64\n",
      " 4   steering_rate          60000 non-null  float64\n",
      " 5   speed                  60000 non-null  float64\n",
      " 6   ego_operation          60000 non-null  int64  \n",
      " 7   ego_speed              60000 non-null  int64  \n",
      " 8   timeofDay              60000 non-null  int64  \n",
      " 9   trafficRule_sidewalk   60000 non-null  int64  \n",
      " 10  CollisionInfo          60000 non-null  int64  \n",
      " 11  Weather_rain           60000 non-null  int64  \n",
      " 12  Weather_fog            60000 non-null  int64  \n",
      " 13  Weather_wetness        60000 non-null  int64  \n",
      " 14  pedestrian_count       60000 non-null  int64  \n",
      " 15  vehicle_count          60000 non-null  int64  \n",
      " 16  weather                60000 non-null  int64  \n",
      " 17  test_scenario_number   60000 non-null  int64  \n",
      " 18  Traffic_Light          60000 non-null  int64  \n",
      " 19  Demand                 60000 non-null  int64  \n",
      " 20  Diversity              60000 non-null  int64  \n",
      " 21  Diversity_AVG          60000 non-null  float64\n",
      " 22  Collision_Probability  60000 non-null  float64\n",
      "dtypes: float64(8), int64(15)\n",
      "memory usage: 10.5 MB\n"
     ]
    }
   ],
   "source": [
    "data.info()"
   ]
  },
  {
   "cell_type": "markdown",
   "id": "95be55c9",
   "metadata": {},
   "source": [
    "# Weather feature set"
   ]
  },
  {
   "cell_type": "code",
   "execution_count": 32,
   "id": "c9871ce4",
   "metadata": {},
   "outputs": [],
   "source": [
    "X=data[['weather','Weather_rain','Weather_fog','Weather_wetness','timeofDay']] # Features\n",
    "y=data['CollisionInfo']\n",
    "# Split dataset into training set and test set\n",
    "X_train, X_test, y_train, y_test = train_test_split(X, y, test_size=0.3,random_state=0)"
   ]
  },
  {
   "cell_type": "code",
   "execution_count": 33,
   "id": "e37735a0",
   "metadata": {},
   "outputs": [
    {
     "name": "stderr",
     "output_type": "stream",
     "text": [
      "The use of label encoder in XGBClassifier is deprecated and will be removed in a future release. To remove this warning, do the following: 1) Pass option use_label_encoder=False when constructing XGBClassifier object; and 2) Encode your labels (y) as integers starting with 0, i.e. 0, 1, 2, ..., [num_class - 1].\n"
     ]
    },
    {
     "name": "stdout",
     "output_type": "stream",
     "text": [
      "[18:29:08] WARNING: C:/Users/Administrator/workspace/xgboost-win64_release_1.5.1/src/learner.cc:1115: Starting in XGBoost 1.3.0, the default evaluation metric used with the objective 'binary:logistic' was changed from 'error' to 'logloss'. Explicitly set eval_metric if you'd like to restore the old behavior.\n"
     ]
    }
   ],
   "source": [
    "xgb_classifier=XGBClassifier()\n",
    "xgb_classifier.fit(X, y, sample_weight=sample_weights)\n",
    "\n",
    "y_pred_xgb=xgb_classifier.predict(X_test)"
   ]
  },
  {
   "cell_type": "code",
   "execution_count": 34,
   "id": "c6f8fd75",
   "metadata": {},
   "outputs": [
    {
     "name": "stdout",
     "output_type": "stream",
     "text": [
      "Accuracy: 0.3098888888888889\n",
      "f1_score: 0.09089578454332552\n",
      "recall_score: 0.8054474708171206\n",
      "precision_score: 0.04816567129450089\n"
     ]
    }
   ],
   "source": [
    "accuracy = accuracy_score(y_test, y_pred_xgb)\n",
    "f1 = f1_score(y_test, y_pred_xgb)\n",
    "recall = recall_score(y_test, y_pred_xgb)\n",
    "precission = precision_score(y_test, y_pred_xgb)\n",
    "\n",
    "print(\"Accuracy:\", accuracy)\n",
    "print(\"f1_score:\", f1)\n",
    "print(\"recall_score:\", recall)\n",
    "print(\"precision_score:\", precission)"
   ]
  },
  {
   "cell_type": "markdown",
   "id": "28b83eb4",
   "metadata": {},
   "source": [
    "# traffic rule feature set"
   ]
  },
  {
   "cell_type": "code",
   "execution_count": 35,
   "id": "e31c0f3f",
   "metadata": {},
   "outputs": [],
   "source": [
    "X=data[['trafficRule_sidewalk','Traffic_Light']] # Features\n",
    "y=data['CollisionInfo']\n",
    "# Split dataset into training set and test set\n",
    "X_train, X_test, y_train, y_test = train_test_split(X, y, test_size=0.3,random_state=0)"
   ]
  },
  {
   "cell_type": "code",
   "execution_count": 36,
   "id": "a5ea93cf",
   "metadata": {},
   "outputs": [
    {
     "name": "stderr",
     "output_type": "stream",
     "text": [
      "The use of label encoder in XGBClassifier is deprecated and will be removed in a future release. To remove this warning, do the following: 1) Pass option use_label_encoder=False when constructing XGBClassifier object; and 2) Encode your labels (y) as integers starting with 0, i.e. 0, 1, 2, ..., [num_class - 1].\n"
     ]
    },
    {
     "name": "stdout",
     "output_type": "stream",
     "text": [
      "[18:29:39] WARNING: C:/Users/Administrator/workspace/xgboost-win64_release_1.5.1/src/learner.cc:1115: Starting in XGBoost 1.3.0, the default evaluation metric used with the objective 'binary:logistic' was changed from 'error' to 'logloss'. Explicitly set eval_metric if you'd like to restore the old behavior.\n"
     ]
    }
   ],
   "source": [
    "xgb_classifier=XGBClassifier()\n",
    "xgb_classifier.fit(X, y, sample_weight=sample_weights)\n",
    "\n",
    "y_pred_xgb=xgb_classifier.predict(X_test)"
   ]
  },
  {
   "cell_type": "code",
   "execution_count": 37,
   "id": "6d8e40b3",
   "metadata": {},
   "outputs": [
    {
     "name": "stdout",
     "output_type": "stream",
     "text": [
      "Accuracy: 0.7181666666666666\n",
      "f1_score: 0.1344480464084627\n",
      "recall_score: 0.5110246433203631\n",
      "precision_score: 0.07740667976424362\n"
     ]
    }
   ],
   "source": [
    "accuracy = accuracy_score(y_test, y_pred_xgb)\n",
    "f1 = f1_score(y_test, y_pred_xgb)\n",
    "recall = recall_score(y_test, y_pred_xgb)\n",
    "precission = precision_score(y_test, y_pred_xgb)\n",
    "\n",
    "print(\"Accuracy:\", accuracy)\n",
    "print(\"f1_score:\", f1)\n",
    "print(\"recall_score:\", recall)\n",
    "print(\"precision_score:\", precission)"
   ]
  },
  {
   "cell_type": "markdown",
   "id": "19e4be6d",
   "metadata": {},
   "source": [
    "# obstacle feature set:"
   ]
  },
  {
   "cell_type": "code",
   "execution_count": 38,
   "id": "4aa7743e",
   "metadata": {},
   "outputs": [],
   "source": [
    "X=data[['vehicle_count','pedestrian_count']] # Features\n",
    "y=data['CollisionInfo']\n",
    "# Split dataset into training set and test set\n",
    "X_train, X_test, y_train, y_test = train_test_split(X, y, test_size=0.3,random_state=0)"
   ]
  },
  {
   "cell_type": "code",
   "execution_count": 39,
   "id": "4a47271a",
   "metadata": {},
   "outputs": [
    {
     "name": "stderr",
     "output_type": "stream",
     "text": [
      "The use of label encoder in XGBClassifier is deprecated and will be removed in a future release. To remove this warning, do the following: 1) Pass option use_label_encoder=False when constructing XGBClassifier object; and 2) Encode your labels (y) as integers starting with 0, i.e. 0, 1, 2, ..., [num_class - 1].\n"
     ]
    },
    {
     "name": "stdout",
     "output_type": "stream",
     "text": [
      "[18:31:34] WARNING: C:/Users/Administrator/workspace/xgboost-win64_release_1.5.1/src/learner.cc:1115: Starting in XGBoost 1.3.0, the default evaluation metric used with the objective 'binary:logistic' was changed from 'error' to 'logloss'. Explicitly set eval_metric if you'd like to restore the old behavior.\n"
     ]
    }
   ],
   "source": [
    "xgb_classifier=XGBClassifier()\n",
    "xgb_classifier.fit(X, y, sample_weight=sample_weights)\n",
    "\n",
    "y_pred_xgb=xgb_classifier.predict(X_test)"
   ]
  },
  {
   "cell_type": "code",
   "execution_count": 40,
   "id": "40052328",
   "metadata": {},
   "outputs": [
    {
     "name": "stdout",
     "output_type": "stream",
     "text": [
      "Accuracy: 0.6071666666666666\n",
      "f1_score: 0.10708422780654124\n",
      "recall_score: 0.5499351491569391\n",
      "precision_score: 0.05931729155008394\n"
     ]
    }
   ],
   "source": [
    "accuracy = accuracy_score(y_test, y_pred_xgb)\n",
    "f1 = f1_score(y_test, y_pred_xgb)\n",
    "recall = recall_score(y_test, y_pred_xgb)\n",
    "precission = precision_score(y_test, y_pred_xgb)\n",
    "\n",
    "print(\"Accuracy:\", accuracy)\n",
    "print(\"f1_score:\", f1)\n",
    "print(\"recall_score:\", recall)\n",
    "print(\"precision_score:\", precission)"
   ]
  },
  {
   "cell_type": "code",
   "execution_count": 49,
   "id": "f4bd9673",
   "metadata": {},
   "outputs": [
    {
     "data": {
      "text/plain": [
       "<AxesSubplot:xlabel='Feature set'>"
      ]
     },
     "execution_count": 49,
     "metadata": {},
     "output_type": "execute_result"
    },
    {
     "data": {
      "image/png": "[encoded data removed]",
      "text/plain": [
       "<Figure size 432x288 with 1 Axes>"
      ]
     },
     "metadata": {
      "needs_background": "light"
     },
     "output_type": "display_data"
    }
   ],
   "source": [
    "feature_set=pd.read_csv('feature_set.csv',engine=None)\n",
    "feature_set.pivot(index='Feature set', columns='Matrix', values='Score').plot(kind='bar',width=0.9,color=['orange','yellow','red'],hatch='/')"
   ]
  },
  {
   "cell_type": "markdown",
   "id": "20640488",
   "metadata": {},
   "source": [
    "# Test prioritization"
   ]
  },
  {
   "cell_type": "code",
   "execution_count": 74,
   "id": "3849a636",
   "metadata": {},
   "outputs": [
    {
     "data": {
      "text/html": [
       "<div>\n",
       "<style scoped>\n",
       "    .dataframe tbody tr th:only-of-type {\n",
       "        vertical-align: middle;\n",
       "    }\n",
       "\n",
       "    .dataframe tbody tr th {\n",
       "        vertical-align: top;\n",
       "    }\n",
       "\n",
       "    .dataframe thead th {\n",
       "        text-align: right;\n",
       "    }\n",
       "</style>\n",
       "<table border=\"1\" class=\"dataframe\">\n",
       "  <thead>\n",
       "    <tr style=\"text-align: right;\">\n",
       "      <th></th>\n",
       "      <th>acceleration</th>\n",
       "      <th>throttle</th>\n",
       "      <th>steering_target</th>\n",
       "      <th>brake</th>\n",
       "      <th>steering_rate</th>\n",
       "      <th>speed</th>\n",
       "      <th>ego_operation</th>\n",
       "      <th>ego_speed</th>\n",
       "      <th>timeofDay</th>\n",
       "      <th>trafficRule_sidewalk</th>\n",
       "      <th>...</th>\n",
       "      <th>Weather_wetness</th>\n",
       "      <th>pedestrian_count</th>\n",
       "      <th>vehicle_count</th>\n",
       "      <th>weather</th>\n",
       "      <th>test_scenario_number</th>\n",
       "      <th>Traffic_Light</th>\n",
       "      <th>Demand</th>\n",
       "      <th>Diversity</th>\n",
       "      <th>Diversity_AVG</th>\n",
       "      <th>Collision_Probability</th>\n",
       "    </tr>\n",
       "  </thead>\n",
       "  <tbody>\n",
       "    <tr>\n",
       "      <th>0</th>\n",
       "      <td>1.21</td>\n",
       "      <td>15.70</td>\n",
       "      <td>0.68</td>\n",
       "      <td>0.0</td>\n",
       "      <td>100.0</td>\n",
       "      <td>5.15</td>\n",
       "      <td>1</td>\n",
       "      <td>3</td>\n",
       "      <td>1</td>\n",
       "      <td>0</td>\n",
       "      <td>...</td>\n",
       "      <td>0</td>\n",
       "      <td>0</td>\n",
       "      <td>0</td>\n",
       "      <td>0</td>\n",
       "      <td>0</td>\n",
       "      <td>3</td>\n",
       "      <td>6</td>\n",
       "      <td>12053</td>\n",
       "      <td>0.201</td>\n",
       "      <td>0.742</td>\n",
       "    </tr>\n",
       "    <tr>\n",
       "      <th>1</th>\n",
       "      <td>0.81</td>\n",
       "      <td>23.40</td>\n",
       "      <td>0.50</td>\n",
       "      <td>0.0</td>\n",
       "      <td>100.0</td>\n",
       "      <td>6.24</td>\n",
       "      <td>1</td>\n",
       "      <td>3</td>\n",
       "      <td>1</td>\n",
       "      <td>0</td>\n",
       "      <td>...</td>\n",
       "      <td>0</td>\n",
       "      <td>0</td>\n",
       "      <td>0</td>\n",
       "      <td>0</td>\n",
       "      <td>1</td>\n",
       "      <td>3</td>\n",
       "      <td>0</td>\n",
       "      <td>13470</td>\n",
       "      <td>0.225</td>\n",
       "      <td>0.074</td>\n",
       "    </tr>\n",
       "    <tr>\n",
       "      <th>2</th>\n",
       "      <td>1.12</td>\n",
       "      <td>15.70</td>\n",
       "      <td>0.44</td>\n",
       "      <td>0.0</td>\n",
       "      <td>100.0</td>\n",
       "      <td>6.38</td>\n",
       "      <td>1</td>\n",
       "      <td>3</td>\n",
       "      <td>1</td>\n",
       "      <td>0</td>\n",
       "      <td>...</td>\n",
       "      <td>0</td>\n",
       "      <td>0</td>\n",
       "      <td>0</td>\n",
       "      <td>0</td>\n",
       "      <td>2</td>\n",
       "      <td>3</td>\n",
       "      <td>7</td>\n",
       "      <td>12234</td>\n",
       "      <td>0.204</td>\n",
       "      <td>0.718</td>\n",
       "    </tr>\n",
       "    <tr>\n",
       "      <th>3</th>\n",
       "      <td>1.42</td>\n",
       "      <td>31.76</td>\n",
       "      <td>0.44</td>\n",
       "      <td>0.0</td>\n",
       "      <td>100.0</td>\n",
       "      <td>6.60</td>\n",
       "      <td>1</td>\n",
       "      <td>3</td>\n",
       "      <td>1</td>\n",
       "      <td>0</td>\n",
       "      <td>...</td>\n",
       "      <td>0</td>\n",
       "      <td>0</td>\n",
       "      <td>0</td>\n",
       "      <td>0</td>\n",
       "      <td>3</td>\n",
       "      <td>3</td>\n",
       "      <td>19</td>\n",
       "      <td>12199</td>\n",
       "      <td>0.203</td>\n",
       "      <td>0.985</td>\n",
       "    </tr>\n",
       "    <tr>\n",
       "      <th>4</th>\n",
       "      <td>0.90</td>\n",
       "      <td>24.20</td>\n",
       "      <td>0.54</td>\n",
       "      <td>0.0</td>\n",
       "      <td>100.0</td>\n",
       "      <td>7.03</td>\n",
       "      <td>1</td>\n",
       "      <td>3</td>\n",
       "      <td>1</td>\n",
       "      <td>0</td>\n",
       "      <td>...</td>\n",
       "      <td>0</td>\n",
       "      <td>0</td>\n",
       "      <td>0</td>\n",
       "      <td>0</td>\n",
       "      <td>4</td>\n",
       "      <td>3</td>\n",
       "      <td>5</td>\n",
       "      <td>11846</td>\n",
       "      <td>0.197</td>\n",
       "      <td>0.454</td>\n",
       "    </tr>\n",
       "    <tr>\n",
       "      <th>...</th>\n",
       "      <td>...</td>\n",
       "      <td>...</td>\n",
       "      <td>...</td>\n",
       "      <td>...</td>\n",
       "      <td>...</td>\n",
       "      <td>...</td>\n",
       "      <td>...</td>\n",
       "      <td>...</td>\n",
       "      <td>...</td>\n",
       "      <td>...</td>\n",
       "      <td>...</td>\n",
       "      <td>...</td>\n",
       "      <td>...</td>\n",
       "      <td>...</td>\n",
       "      <td>...</td>\n",
       "      <td>...</td>\n",
       "      <td>...</td>\n",
       "      <td>...</td>\n",
       "      <td>...</td>\n",
       "      <td>...</td>\n",
       "      <td>...</td>\n",
       "    </tr>\n",
       "    <tr>\n",
       "      <th>59995</th>\n",
       "      <td>-0.30</td>\n",
       "      <td>0.00</td>\n",
       "      <td>0.16</td>\n",
       "      <td>14.5</td>\n",
       "      <td>100.0</td>\n",
       "      <td>0.71</td>\n",
       "      <td>3</td>\n",
       "      <td>2</td>\n",
       "      <td>1</td>\n",
       "      <td>0</td>\n",
       "      <td>...</td>\n",
       "      <td>0</td>\n",
       "      <td>0</td>\n",
       "      <td>0</td>\n",
       "      <td>0</td>\n",
       "      <td>59995</td>\n",
       "      <td>3</td>\n",
       "      <td>5</td>\n",
       "      <td>10533</td>\n",
       "      <td>0.176</td>\n",
       "      <td>0.593</td>\n",
       "    </tr>\n",
       "    <tr>\n",
       "      <th>59996</th>\n",
       "      <td>0.74</td>\n",
       "      <td>75.18</td>\n",
       "      <td>0.15</td>\n",
       "      <td>0.0</td>\n",
       "      <td>100.0</td>\n",
       "      <td>0.80</td>\n",
       "      <td>1</td>\n",
       "      <td>2</td>\n",
       "      <td>1</td>\n",
       "      <td>0</td>\n",
       "      <td>...</td>\n",
       "      <td>0</td>\n",
       "      <td>0</td>\n",
       "      <td>0</td>\n",
       "      <td>0</td>\n",
       "      <td>59996</td>\n",
       "      <td>3</td>\n",
       "      <td>1</td>\n",
       "      <td>10533</td>\n",
       "      <td>0.176</td>\n",
       "      <td>0.087</td>\n",
       "    </tr>\n",
       "    <tr>\n",
       "      <th>59997</th>\n",
       "      <td>1.14</td>\n",
       "      <td>34.06</td>\n",
       "      <td>0.10</td>\n",
       "      <td>0.0</td>\n",
       "      <td>100.0</td>\n",
       "      <td>1.97</td>\n",
       "      <td>1</td>\n",
       "      <td>2</td>\n",
       "      <td>1</td>\n",
       "      <td>0</td>\n",
       "      <td>...</td>\n",
       "      <td>0</td>\n",
       "      <td>0</td>\n",
       "      <td>0</td>\n",
       "      <td>0</td>\n",
       "      <td>59997</td>\n",
       "      <td>3</td>\n",
       "      <td>5</td>\n",
       "      <td>10533</td>\n",
       "      <td>0.176</td>\n",
       "      <td>0.369</td>\n",
       "    </tr>\n",
       "    <tr>\n",
       "      <th>59998</th>\n",
       "      <td>0.73</td>\n",
       "      <td>61.19</td>\n",
       "      <td>0.18</td>\n",
       "      <td>0.0</td>\n",
       "      <td>100.0</td>\n",
       "      <td>2.77</td>\n",
       "      <td>1</td>\n",
       "      <td>2</td>\n",
       "      <td>1</td>\n",
       "      <td>0</td>\n",
       "      <td>...</td>\n",
       "      <td>0</td>\n",
       "      <td>0</td>\n",
       "      <td>0</td>\n",
       "      <td>0</td>\n",
       "      <td>59998</td>\n",
       "      <td>3</td>\n",
       "      <td>5</td>\n",
       "      <td>10533</td>\n",
       "      <td>0.176</td>\n",
       "      <td>0.652</td>\n",
       "    </tr>\n",
       "    <tr>\n",
       "      <th>59999</th>\n",
       "      <td>1.31</td>\n",
       "      <td>77.08</td>\n",
       "      <td>0.13</td>\n",
       "      <td>0.0</td>\n",
       "      <td>100.0</td>\n",
       "      <td>3.19</td>\n",
       "      <td>1</td>\n",
       "      <td>2</td>\n",
       "      <td>1</td>\n",
       "      <td>0</td>\n",
       "      <td>...</td>\n",
       "      <td>0</td>\n",
       "      <td>0</td>\n",
       "      <td>0</td>\n",
       "      <td>0</td>\n",
       "      <td>59999</td>\n",
       "      <td>3</td>\n",
       "      <td>1</td>\n",
       "      <td>10533</td>\n",
       "      <td>0.176</td>\n",
       "      <td>0.087</td>\n",
       "    </tr>\n",
       "  </tbody>\n",
       "</table>\n",
       "<p>60000 rows × 23 columns</p>\n",
       "</div>"
      ],
      "text/plain": [
       "       acceleration  throttle  steering_target  brake  steering_rate  speed  \\\n",
       "0              1.21     15.70             0.68    0.0          100.0   5.15   \n",
       "1              0.81     23.40             0.50    0.0          100.0   6.24   \n",
       "2              1.12     15.70             0.44    0.0          100.0   6.38   \n",
       "3              1.42     31.76             0.44    0.0          100.0   6.60   \n",
       "4              0.90     24.20             0.54    0.0          100.0   7.03   \n",
       "...             ...       ...              ...    ...            ...    ...   \n",
       "59995         -0.30      0.00             0.16   14.5          100.0   0.71   \n",
       "59996          0.74     75.18             0.15    0.0          100.0   0.80   \n",
       "59997          1.14     34.06             0.10    0.0          100.0   1.97   \n",
       "59998          0.73     61.19             0.18    0.0          100.0   2.77   \n",
       "59999          1.31     77.08             0.13    0.0          100.0   3.19   \n",
       "\n",
       "       ego_operation  ego_speed  timeofDay  trafficRule_sidewalk  ...  \\\n",
       "0                  1          3          1                     0  ...   \n",
       "1                  1          3          1                     0  ...   \n",
       "2                  1          3          1                     0  ...   \n",
       "3                  1          3          1                     0  ...   \n",
       "4                  1          3          1                     0  ...   \n",
       "...              ...        ...        ...                   ...  ...   \n",
       "59995              3          2          1                     0  ...   \n",
       "59996              1          2          1                     0  ...   \n",
       "59997              1          2          1                     0  ...   \n",
       "59998              1          2          1                     0  ...   \n",
       "59999              1          2          1                     0  ...   \n",
       "\n",
       "       Weather_wetness  pedestrian_count  vehicle_count  weather  \\\n",
       "0                    0                 0              0        0   \n",
       "1                    0                 0              0        0   \n",
       "2                    0                 0              0        0   \n",
       "3                    0                 0              0        0   \n",
       "4                    0                 0              0        0   \n",
       "...                ...               ...            ...      ...   \n",
       "59995                0                 0              0        0   \n",
       "59996                0                 0              0        0   \n",
       "59997                0                 0              0        0   \n",
       "59998                0                 0              0        0   \n",
       "59999                0                 0              0        0   \n",
       "\n",
       "       test_scenario_number  Traffic_Light  Demand  Diversity  Diversity_AVG  \\\n",
       "0                         0              3       6      12053          0.201   \n",
       "1                         1              3       0      13470          0.225   \n",
       "2                         2              3       7      12234          0.204   \n",
       "3                         3              3      19      12199          0.203   \n",
       "4                         4              3       5      11846          0.197   \n",
       "...                     ...            ...     ...        ...            ...   \n",
       "59995                 59995              3       5      10533          0.176   \n",
       "59996                 59996              3       1      10533          0.176   \n",
       "59997                 59997              3       5      10533          0.176   \n",
       "59998                 59998              3       5      10533          0.176   \n",
       "59999                 59999              3       1      10533          0.176   \n",
       "\n",
       "       Collision_Probability  \n",
       "0                      0.742  \n",
       "1                      0.074  \n",
       "2                      0.718  \n",
       "3                      0.985  \n",
       "4                      0.454  \n",
       "...                      ...  \n",
       "59995                  0.593  \n",
       "59996                  0.087  \n",
       "59997                  0.369  \n",
       "59998                  0.652  \n",
       "59999                  0.087  \n",
       "\n",
       "[60000 rows x 23 columns]"
      ]
     },
     "execution_count": 74,
     "metadata": {},
     "output_type": "execute_result"
    }
   ],
   "source": [
    "df=data\n",
    "df"
   ]
  },
  {
   "cell_type": "code",
   "execution_count": 157,
   "id": "0726ab4b",
   "metadata": {},
   "outputs": [],
   "source": [
    "df1=df.loc[df['test_scenario_number'] < 59000]\n",
    "df2=df.loc[df['test_scenario_number'] >= 59000]"
   ]
  },
  {
   "cell_type": "code",
   "execution_count": 158,
   "id": "0ed4c099",
   "metadata": {},
   "outputs": [
    {
     "data": {
      "text/html": [
       "<div>\n",
       "<style scoped>\n",
       "    .dataframe tbody tr th:only-of-type {\n",
       "        vertical-align: middle;\n",
       "    }\n",
       "\n",
       "    .dataframe tbody tr th {\n",
       "        vertical-align: top;\n",
       "    }\n",
       "\n",
       "    .dataframe thead th {\n",
       "        text-align: right;\n",
       "    }\n",
       "</style>\n",
       "<table border=\"1\" class=\"dataframe\">\n",
       "  <thead>\n",
       "    <tr style=\"text-align: right;\">\n",
       "      <th></th>\n",
       "      <th>acceleration</th>\n",
       "      <th>throttle</th>\n",
       "      <th>steering_target</th>\n",
       "      <th>brake</th>\n",
       "      <th>steering_rate</th>\n",
       "      <th>speed</th>\n",
       "      <th>ego_operation</th>\n",
       "      <th>ego_speed</th>\n",
       "      <th>timeofDay</th>\n",
       "      <th>trafficRule_sidewalk</th>\n",
       "      <th>...</th>\n",
       "      <th>Weather_wetness</th>\n",
       "      <th>pedestrian_count</th>\n",
       "      <th>vehicle_count</th>\n",
       "      <th>weather</th>\n",
       "      <th>test_scenario_number</th>\n",
       "      <th>Traffic_Light</th>\n",
       "      <th>Demand</th>\n",
       "      <th>Diversity</th>\n",
       "      <th>Diversity_AVG</th>\n",
       "      <th>Collision_Probability</th>\n",
       "    </tr>\n",
       "  </thead>\n",
       "  <tbody>\n",
       "    <tr>\n",
       "      <th>59221</th>\n",
       "      <td>-3.86</td>\n",
       "      <td>0.00</td>\n",
       "      <td>0.21</td>\n",
       "      <td>44.93</td>\n",
       "      <td>100.0</td>\n",
       "      <td>7.96</td>\n",
       "      <td>4</td>\n",
       "      <td>3</td>\n",
       "      <td>1</td>\n",
       "      <td>0</td>\n",
       "      <td>...</td>\n",
       "      <td>0</td>\n",
       "      <td>0</td>\n",
       "      <td>2</td>\n",
       "      <td>0</td>\n",
       "      <td>59221</td>\n",
       "      <td>3</td>\n",
       "      <td>6</td>\n",
       "      <td>10249</td>\n",
       "      <td>0.171</td>\n",
       "      <td>0.792</td>\n",
       "    </tr>\n",
       "    <tr>\n",
       "      <th>59358</th>\n",
       "      <td>-0.17</td>\n",
       "      <td>0.00</td>\n",
       "      <td>-13.38</td>\n",
       "      <td>14.50</td>\n",
       "      <td>100.0</td>\n",
       "      <td>7.05</td>\n",
       "      <td>3</td>\n",
       "      <td>3</td>\n",
       "      <td>1</td>\n",
       "      <td>0</td>\n",
       "      <td>...</td>\n",
       "      <td>3</td>\n",
       "      <td>0</td>\n",
       "      <td>0</td>\n",
       "      <td>3</td>\n",
       "      <td>59358</td>\n",
       "      <td>0</td>\n",
       "      <td>8</td>\n",
       "      <td>11676</td>\n",
       "      <td>0.195</td>\n",
       "      <td>0.934</td>\n",
       "    </tr>\n",
       "    <tr>\n",
       "      <th>59392</th>\n",
       "      <td>0.19</td>\n",
       "      <td>15.70</td>\n",
       "      <td>0.03</td>\n",
       "      <td>0.00</td>\n",
       "      <td>100.0</td>\n",
       "      <td>9.44</td>\n",
       "      <td>1</td>\n",
       "      <td>4</td>\n",
       "      <td>2</td>\n",
       "      <td>0</td>\n",
       "      <td>...</td>\n",
       "      <td>0</td>\n",
       "      <td>0</td>\n",
       "      <td>0</td>\n",
       "      <td>0</td>\n",
       "      <td>59392</td>\n",
       "      <td>0</td>\n",
       "      <td>6</td>\n",
       "      <td>14602</td>\n",
       "      <td>0.243</td>\n",
       "      <td>0.836</td>\n",
       "    </tr>\n",
       "    <tr>\n",
       "      <th>59684</th>\n",
       "      <td>1.07</td>\n",
       "      <td>25.16</td>\n",
       "      <td>0.35</td>\n",
       "      <td>0.00</td>\n",
       "      <td>100.0</td>\n",
       "      <td>7.49</td>\n",
       "      <td>1</td>\n",
       "      <td>3</td>\n",
       "      <td>1</td>\n",
       "      <td>0</td>\n",
       "      <td>...</td>\n",
       "      <td>1</td>\n",
       "      <td>0</td>\n",
       "      <td>0</td>\n",
       "      <td>3</td>\n",
       "      <td>59684</td>\n",
       "      <td>0</td>\n",
       "      <td>0</td>\n",
       "      <td>10151</td>\n",
       "      <td>0.169</td>\n",
       "      <td>0.068</td>\n",
       "    </tr>\n",
       "    <tr>\n",
       "      <th>59686</th>\n",
       "      <td>-0.05</td>\n",
       "      <td>0.00</td>\n",
       "      <td>-0.14</td>\n",
       "      <td>14.50</td>\n",
       "      <td>100.0</td>\n",
       "      <td>0.52</td>\n",
       "      <td>3</td>\n",
       "      <td>2</td>\n",
       "      <td>1</td>\n",
       "      <td>0</td>\n",
       "      <td>...</td>\n",
       "      <td>1</td>\n",
       "      <td>0</td>\n",
       "      <td>0</td>\n",
       "      <td>3</td>\n",
       "      <td>59686</td>\n",
       "      <td>0</td>\n",
       "      <td>2</td>\n",
       "      <td>11679</td>\n",
       "      <td>0.195</td>\n",
       "      <td>0.115</td>\n",
       "    </tr>\n",
       "    <tr>\n",
       "      <th>59689</th>\n",
       "      <td>1.02</td>\n",
       "      <td>27.01</td>\n",
       "      <td>1.56</td>\n",
       "      <td>0.00</td>\n",
       "      <td>100.0</td>\n",
       "      <td>4.97</td>\n",
       "      <td>6</td>\n",
       "      <td>2</td>\n",
       "      <td>1</td>\n",
       "      <td>0</td>\n",
       "      <td>...</td>\n",
       "      <td>3</td>\n",
       "      <td>0</td>\n",
       "      <td>0</td>\n",
       "      <td>4</td>\n",
       "      <td>59689</td>\n",
       "      <td>0</td>\n",
       "      <td>3</td>\n",
       "      <td>10535</td>\n",
       "      <td>0.176</td>\n",
       "      <td>0.439</td>\n",
       "    </tr>\n",
       "    <tr>\n",
       "      <th>59690</th>\n",
       "      <td>1.09</td>\n",
       "      <td>15.70</td>\n",
       "      <td>1.26</td>\n",
       "      <td>0.00</td>\n",
       "      <td>100.0</td>\n",
       "      <td>5.64</td>\n",
       "      <td>6</td>\n",
       "      <td>3</td>\n",
       "      <td>1</td>\n",
       "      <td>0</td>\n",
       "      <td>...</td>\n",
       "      <td>3</td>\n",
       "      <td>0</td>\n",
       "      <td>0</td>\n",
       "      <td>4</td>\n",
       "      <td>59690</td>\n",
       "      <td>0</td>\n",
       "      <td>1</td>\n",
       "      <td>10151</td>\n",
       "      <td>0.169</td>\n",
       "      <td>0.253</td>\n",
       "    </tr>\n",
       "    <tr>\n",
       "      <th>59758</th>\n",
       "      <td>0.00</td>\n",
       "      <td>0.00</td>\n",
       "      <td>0.00</td>\n",
       "      <td>50.00</td>\n",
       "      <td>0.0</td>\n",
       "      <td>0.00</td>\n",
       "      <td>3</td>\n",
       "      <td>1</td>\n",
       "      <td>2</td>\n",
       "      <td>0</td>\n",
       "      <td>...</td>\n",
       "      <td>3</td>\n",
       "      <td>0</td>\n",
       "      <td>0</td>\n",
       "      <td>4</td>\n",
       "      <td>59758</td>\n",
       "      <td>0</td>\n",
       "      <td>4</td>\n",
       "      <td>11725</td>\n",
       "      <td>0.195</td>\n",
       "      <td>0.785</td>\n",
       "    </tr>\n",
       "    <tr>\n",
       "      <th>59770</th>\n",
       "      <td>0.00</td>\n",
       "      <td>0.00</td>\n",
       "      <td>0.00</td>\n",
       "      <td>50.00</td>\n",
       "      <td>0.0</td>\n",
       "      <td>0.00</td>\n",
       "      <td>3</td>\n",
       "      <td>1</td>\n",
       "      <td>2</td>\n",
       "      <td>0</td>\n",
       "      <td>...</td>\n",
       "      <td>3</td>\n",
       "      <td>0</td>\n",
       "      <td>0</td>\n",
       "      <td>4</td>\n",
       "      <td>59770</td>\n",
       "      <td>0</td>\n",
       "      <td>0</td>\n",
       "      <td>11219</td>\n",
       "      <td>0.187</td>\n",
       "      <td>0.254</td>\n",
       "    </tr>\n",
       "  </tbody>\n",
       "</table>\n",
       "<p>9 rows × 23 columns</p>\n",
       "</div>"
      ],
      "text/plain": [
       "       acceleration  throttle  steering_target  brake  steering_rate  speed  \\\n",
       "59221         -3.86      0.00             0.21  44.93          100.0   7.96   \n",
       "59358         -0.17      0.00           -13.38  14.50          100.0   7.05   \n",
       "59392          0.19     15.70             0.03   0.00          100.0   9.44   \n",
       "59684          1.07     25.16             0.35   0.00          100.0   7.49   \n",
       "59686         -0.05      0.00            -0.14  14.50          100.0   0.52   \n",
       "59689          1.02     27.01             1.56   0.00          100.0   4.97   \n",
       "59690          1.09     15.70             1.26   0.00          100.0   5.64   \n",
       "59758          0.00      0.00             0.00  50.00            0.0   0.00   \n",
       "59770          0.00      0.00             0.00  50.00            0.0   0.00   \n",
       "\n",
       "       ego_operation  ego_speed  timeofDay  trafficRule_sidewalk  ...  \\\n",
       "59221              4          3          1                     0  ...   \n",
       "59358              3          3          1                     0  ...   \n",
       "59392              1          4          2                     0  ...   \n",
       "59684              1          3          1                     0  ...   \n",
       "59686              3          2          1                     0  ...   \n",
       "59689              6          2          1                     0  ...   \n",
       "59690              6          3          1                     0  ...   \n",
       "59758              3          1          2                     0  ...   \n",
       "59770              3          1          2                     0  ...   \n",
       "\n",
       "       Weather_wetness  pedestrian_count  vehicle_count  weather  \\\n",
       "59221                0                 0              2        0   \n",
       "59358                3                 0              0        3   \n",
       "59392                0                 0              0        0   \n",
       "59684                1                 0              0        3   \n",
       "59686                1                 0              0        3   \n",
       "59689                3                 0              0        4   \n",
       "59690                3                 0              0        4   \n",
       "59758                3                 0              0        4   \n",
       "59770                3                 0              0        4   \n",
       "\n",
       "       test_scenario_number  Traffic_Light  Demand  Diversity  Diversity_AVG  \\\n",
       "59221                 59221              3       6      10249          0.171   \n",
       "59358                 59358              0       8      11676          0.195   \n",
       "59392                 59392              0       6      14602          0.243   \n",
       "59684                 59684              0       0      10151          0.169   \n",
       "59686                 59686              0       2      11679          0.195   \n",
       "59689                 59689              0       3      10535          0.176   \n",
       "59690                 59690              0       1      10151          0.169   \n",
       "59758                 59758              0       4      11725          0.195   \n",
       "59770                 59770              0       0      11219          0.187   \n",
       "\n",
       "       Collision_Probability  \n",
       "59221                  0.792  \n",
       "59358                  0.934  \n",
       "59392                  0.836  \n",
       "59684                  0.068  \n",
       "59686                  0.115  \n",
       "59689                  0.439  \n",
       "59690                  0.253  \n",
       "59758                  0.785  \n",
       "59770                  0.254  \n",
       "\n",
       "[9 rows x 23 columns]"
      ]
     },
     "execution_count": 158,
     "metadata": {},
     "output_type": "execute_result"
    }
   ],
   "source": [
    "df2.loc[df2['CollisionInfo']==1]"
   ]
  },
  {
   "cell_type": "code",
   "execution_count": 204,
   "id": "265cde4c",
   "metadata": {},
   "outputs": [],
   "source": [
    "X_train=df1.drop(['CollisionInfo','test_scenario_number'],axis=1) \n",
    "y_train=df1['CollisionInfo']\n",
    "X_test=df2.drop(['CollisionInfo','test_scenario_number'],axis=1) \n",
    "y_test=df2['CollisionInfo']"
   ]
  },
  {
   "cell_type": "code",
   "execution_count": 205,
   "id": "f7464263",
   "metadata": {},
   "outputs": [],
   "source": [
    "from sklearn.utils.class_weight import compute_sample_weight\n",
    "sample_weights = compute_sample_weight(\n",
    "    class_weight='balanced',\n",
    "    y=df1['CollisionInfo'] #provide your own target name\n",
    ")"
   ]
  },
  {
   "cell_type": "code",
   "execution_count": 206,
   "id": "18cf8222",
   "metadata": {},
   "outputs": [
    {
     "name": "stderr",
     "output_type": "stream",
     "text": [
      "The use of label encoder in XGBClassifier is deprecated and will be removed in a future release. To remove this warning, do the following: 1) Pass option use_label_encoder=False when constructing XGBClassifier object; and 2) Encode your labels (y) as integers starting with 0, i.e. 0, 1, 2, ..., [num_class - 1].\n"
     ]
    },
    {
     "name": "stdout",
     "output_type": "stream",
     "text": [
      "[21:28:49] WARNING: C:/Users/Administrator/workspace/xgboost-win64_release_1.5.1/src/learner.cc:1115: Starting in XGBoost 1.3.0, the default evaluation metric used with the objective 'binary:logistic' was changed from 'error' to 'logloss'. Explicitly set eval_metric if you'd like to restore the old behavior.\n"
     ]
    }
   ],
   "source": [
    "xgb_classifier=XGBClassifier()\n",
    "xgb_classifier.fit(X_train, y_train, sample_weight=sample_weights)\n",
    "\n",
    "y_pred_xgb=xgb_classifier.predict(X_test)\n",
    "y_pred_xgb_proba=xgb_classifier.predict_proba(X_test)"
   ]
  },
  {
   "cell_type": "code",
   "execution_count": 207,
   "id": "9191ad8d",
   "metadata": {
    "scrolled": true
   },
   "outputs": [
    {
     "name": "stdout",
     "output_type": "stream",
     "text": [
      "Accuracy: 0.95\n",
      "f1_score: 0.07407407407407407\n",
      "recall_score: 0.2222222222222222\n",
      "precision_score: 0.044444444444444446\n"
     ]
    }
   ],
   "source": [
    "accuracy = accuracy_score(y_test, y_pred_xgb)\n",
    "f1 = f1_score(y_test, y_pred_xgb)\n",
    "recall = recall_score(y_test, y_pred_xgb)\n",
    "precission = precision_score(y_test, y_pred_xgb)\n",
    "\n",
    "print(\"Accuracy:\", accuracy)\n",
    "print(\"f1_score:\", f1)\n",
    "print(\"recall_score:\", recall)\n",
    "print(\"precision_score:\", precission)"
   ]
  },
  {
   "cell_type": "code",
   "execution_count": 208,
   "id": "5979a43e",
   "metadata": {},
   "outputs": [
    {
     "name": "stdout",
     "output_type": "stream",
     "text": [
      "Predicted    0   1   All\n",
      "Actual                  \n",
      "0          948  43   991\n",
      "1            7   2     9\n",
      "All        955  45  1000\n",
      "              precision    recall  f1-score   support\n",
      "\n",
      "           0       0.99      0.96      0.97       991\n",
      "           1       0.04      0.22      0.07         9\n",
      "\n",
      "    accuracy                           0.95      1000\n",
      "   macro avg       0.52      0.59      0.52      1000\n",
      "weighted avg       0.98      0.95      0.97      1000\n",
      "\n"
     ]
    }
   ],
   "source": [
    "confusion_matrix(y_test,y_pred_xgb)\n",
    "print(pd.crosstab(y_test, y_pred_xgb, rownames = ['Actual'], colnames =['Predicted'], margins = True))\n",
    "print(classification_report(y_test, y_pred_xgb))"
   ]
  },
  {
   "cell_type": "code",
   "execution_count": 209,
   "id": "eaa607ec",
   "metadata": {},
   "outputs": [
    {
     "data": {
      "text/plain": [
       "array([[0.9065341 , 0.09346593],\n",
       "       [0.94085187, 0.05914814],\n",
       "       [0.86231637, 0.13768366],\n",
       "       ...,\n",
       "       [0.8947909 , 0.1052091 ],\n",
       "       [0.9423016 , 0.05769842],\n",
       "       [0.9646473 , 0.03535272]], dtype=float32)"
      ]
     },
     "execution_count": 209,
     "metadata": {},
     "output_type": "execute_result"
    }
   ],
   "source": [
    "y_pred_xgb_proba"
   ]
  },
  {
   "cell_type": "code",
   "execution_count": 210,
   "id": "d41718b4",
   "metadata": {},
   "outputs": [
    {
     "data": {
      "text/html": [
       "<div>\n",
       "<style scoped>\n",
       "    .dataframe tbody tr th:only-of-type {\n",
       "        vertical-align: middle;\n",
       "    }\n",
       "\n",
       "    .dataframe tbody tr th {\n",
       "        vertical-align: top;\n",
       "    }\n",
       "\n",
       "    .dataframe thead th {\n",
       "        text-align: right;\n",
       "    }\n",
       "</style>\n",
       "<table border=\"1\" class=\"dataframe\">\n",
       "  <thead>\n",
       "    <tr style=\"text-align: right;\">\n",
       "      <th></th>\n",
       "      <th>probability of class 0</th>\n",
       "      <th>probability of class 1</th>\n",
       "    </tr>\n",
       "  </thead>\n",
       "  <tbody>\n",
       "    <tr>\n",
       "      <th>0</th>\n",
       "      <td>0.906534</td>\n",
       "      <td>0.093466</td>\n",
       "    </tr>\n",
       "    <tr>\n",
       "      <th>1</th>\n",
       "      <td>0.940852</td>\n",
       "      <td>0.059148</td>\n",
       "    </tr>\n",
       "    <tr>\n",
       "      <th>2</th>\n",
       "      <td>0.862316</td>\n",
       "      <td>0.137684</td>\n",
       "    </tr>\n",
       "    <tr>\n",
       "      <th>3</th>\n",
       "      <td>0.900977</td>\n",
       "      <td>0.099023</td>\n",
       "    </tr>\n",
       "    <tr>\n",
       "      <th>4</th>\n",
       "      <td>0.814778</td>\n",
       "      <td>0.185222</td>\n",
       "    </tr>\n",
       "    <tr>\n",
       "      <th>...</th>\n",
       "      <td>...</td>\n",
       "      <td>...</td>\n",
       "    </tr>\n",
       "    <tr>\n",
       "      <th>995</th>\n",
       "      <td>0.813387</td>\n",
       "      <td>0.186613</td>\n",
       "    </tr>\n",
       "    <tr>\n",
       "      <th>996</th>\n",
       "      <td>0.976214</td>\n",
       "      <td>0.023786</td>\n",
       "    </tr>\n",
       "    <tr>\n",
       "      <th>997</th>\n",
       "      <td>0.894791</td>\n",
       "      <td>0.105209</td>\n",
       "    </tr>\n",
       "    <tr>\n",
       "      <th>998</th>\n",
       "      <td>0.942302</td>\n",
       "      <td>0.057698</td>\n",
       "    </tr>\n",
       "    <tr>\n",
       "      <th>999</th>\n",
       "      <td>0.964647</td>\n",
       "      <td>0.035353</td>\n",
       "    </tr>\n",
       "  </tbody>\n",
       "</table>\n",
       "<p>1000 rows × 2 columns</p>\n",
       "</div>"
      ],
      "text/plain": [
       "     probability of class 0  probability of class 1\n",
       "0                  0.906534                0.093466\n",
       "1                  0.940852                0.059148\n",
       "2                  0.862316                0.137684\n",
       "3                  0.900977                0.099023\n",
       "4                  0.814778                0.185222\n",
       "..                      ...                     ...\n",
       "995                0.813387                0.186613\n",
       "996                0.976214                0.023786\n",
       "997                0.894791                0.105209\n",
       "998                0.942302                0.057698\n",
       "999                0.964647                0.035353\n",
       "\n",
       "[1000 rows x 2 columns]"
      ]
     },
     "execution_count": 210,
     "metadata": {},
     "output_type": "execute_result"
    }
   ],
   "source": [
    "result2 = pd.DataFrame(y_pred_xgb_proba, columns=['probability of class 0','probability of class 1'])\n",
    "result2"
   ]
  },
  {
   "cell_type": "code",
   "execution_count": 211,
   "id": "63b9a1b1",
   "metadata": {},
   "outputs": [],
   "source": [
    "y_test=df2[['CollisionInfo']]"
   ]
  },
  {
   "cell_type": "code",
   "execution_count": 212,
   "id": "3faabb51",
   "metadata": {},
   "outputs": [
    {
     "data": {
      "text/html": [
       "<div>\n",
       "<style scoped>\n",
       "    .dataframe tbody tr th:only-of-type {\n",
       "        vertical-align: middle;\n",
       "    }\n",
       "\n",
       "    .dataframe tbody tr th {\n",
       "        vertical-align: top;\n",
       "    }\n",
       "\n",
       "    .dataframe thead th {\n",
       "        text-align: right;\n",
       "    }\n",
       "</style>\n",
       "<table border=\"1\" class=\"dataframe\">\n",
       "  <thead>\n",
       "    <tr style=\"text-align: right;\">\n",
       "      <th></th>\n",
       "      <th>CollisionInfo</th>\n",
       "    </tr>\n",
       "  </thead>\n",
       "  <tbody>\n",
       "    <tr>\n",
       "      <th>0</th>\n",
       "      <td>0</td>\n",
       "    </tr>\n",
       "    <tr>\n",
       "      <th>1</th>\n",
       "      <td>0</td>\n",
       "    </tr>\n",
       "    <tr>\n",
       "      <th>2</th>\n",
       "      <td>0</td>\n",
       "    </tr>\n",
       "    <tr>\n",
       "      <th>3</th>\n",
       "      <td>0</td>\n",
       "    </tr>\n",
       "    <tr>\n",
       "      <th>4</th>\n",
       "      <td>0</td>\n",
       "    </tr>\n",
       "    <tr>\n",
       "      <th>...</th>\n",
       "      <td>...</td>\n",
       "    </tr>\n",
       "    <tr>\n",
       "      <th>995</th>\n",
       "      <td>0</td>\n",
       "    </tr>\n",
       "    <tr>\n",
       "      <th>996</th>\n",
       "      <td>0</td>\n",
       "    </tr>\n",
       "    <tr>\n",
       "      <th>997</th>\n",
       "      <td>0</td>\n",
       "    </tr>\n",
       "    <tr>\n",
       "      <th>998</th>\n",
       "      <td>0</td>\n",
       "    </tr>\n",
       "    <tr>\n",
       "      <th>999</th>\n",
       "      <td>0</td>\n",
       "    </tr>\n",
       "  </tbody>\n",
       "</table>\n",
       "<p>1000 rows × 1 columns</p>\n",
       "</div>"
      ],
      "text/plain": [
       "     CollisionInfo\n",
       "0                0\n",
       "1                0\n",
       "2                0\n",
       "3                0\n",
       "4                0\n",
       "..             ...\n",
       "995              0\n",
       "996              0\n",
       "997              0\n",
       "998              0\n",
       "999              0\n",
       "\n",
       "[1000 rows x 1 columns]"
      ]
     },
     "execution_count": 212,
     "metadata": {},
     "output_type": "execute_result"
    }
   ],
   "source": [
    "y_test = y_test.reset_index(drop=True)\n",
    "y_test"
   ]
  },
  {
   "cell_type": "code",
   "execution_count": 213,
   "id": "6c664033",
   "metadata": {},
   "outputs": [],
   "source": [
    "y_test.rename(columns = {'CollisionInfo':'actual'}, inplace = True)"
   ]
  },
  {
   "cell_type": "code",
   "execution_count": 214,
   "id": "4656d52d",
   "metadata": {},
   "outputs": [
    {
     "data": {
      "text/html": [
       "<div>\n",
       "<style scoped>\n",
       "    .dataframe tbody tr th:only-of-type {\n",
       "        vertical-align: middle;\n",
       "    }\n",
       "\n",
       "    .dataframe tbody tr th {\n",
       "        vertical-align: top;\n",
       "    }\n",
       "\n",
       "    .dataframe thead th {\n",
       "        text-align: right;\n",
       "    }\n",
       "</style>\n",
       "<table border=\"1\" class=\"dataframe\">\n",
       "  <thead>\n",
       "    <tr style=\"text-align: right;\">\n",
       "      <th></th>\n",
       "      <th>predicted</th>\n",
       "    </tr>\n",
       "  </thead>\n",
       "  <tbody>\n",
       "    <tr>\n",
       "      <th>0</th>\n",
       "      <td>0</td>\n",
       "    </tr>\n",
       "    <tr>\n",
       "      <th>1</th>\n",
       "      <td>0</td>\n",
       "    </tr>\n",
       "    <tr>\n",
       "      <th>2</th>\n",
       "      <td>0</td>\n",
       "    </tr>\n",
       "    <tr>\n",
       "      <th>3</th>\n",
       "      <td>0</td>\n",
       "    </tr>\n",
       "    <tr>\n",
       "      <th>4</th>\n",
       "      <td>0</td>\n",
       "    </tr>\n",
       "    <tr>\n",
       "      <th>...</th>\n",
       "      <td>...</td>\n",
       "    </tr>\n",
       "    <tr>\n",
       "      <th>995</th>\n",
       "      <td>0</td>\n",
       "    </tr>\n",
       "    <tr>\n",
       "      <th>996</th>\n",
       "      <td>0</td>\n",
       "    </tr>\n",
       "    <tr>\n",
       "      <th>997</th>\n",
       "      <td>0</td>\n",
       "    </tr>\n",
       "    <tr>\n",
       "      <th>998</th>\n",
       "      <td>0</td>\n",
       "    </tr>\n",
       "    <tr>\n",
       "      <th>999</th>\n",
       "      <td>0</td>\n",
       "    </tr>\n",
       "  </tbody>\n",
       "</table>\n",
       "<p>1000 rows × 1 columns</p>\n",
       "</div>"
      ],
      "text/plain": [
       "     predicted\n",
       "0            0\n",
       "1            0\n",
       "2            0\n",
       "3            0\n",
       "4            0\n",
       "..         ...\n",
       "995          0\n",
       "996          0\n",
       "997          0\n",
       "998          0\n",
       "999          0\n",
       "\n",
       "[1000 rows x 1 columns]"
      ]
     },
     "execution_count": 214,
     "metadata": {},
     "output_type": "execute_result"
    }
   ],
   "source": [
    "result = pd.DataFrame(y_pred_xgb, columns=['predicted'])\n",
    "result"
   ]
  },
  {
   "cell_type": "code",
   "execution_count": 215,
   "id": "2240c97a",
   "metadata": {},
   "outputs": [
    {
     "data": {
      "text/html": [
       "<div>\n",
       "<style scoped>\n",
       "    .dataframe tbody tr th:only-of-type {\n",
       "        vertical-align: middle;\n",
       "    }\n",
       "\n",
       "    .dataframe tbody tr th {\n",
       "        vertical-align: top;\n",
       "    }\n",
       "\n",
       "    .dataframe thead th {\n",
       "        text-align: right;\n",
       "    }\n",
       "</style>\n",
       "<table border=\"1\" class=\"dataframe\">\n",
       "  <thead>\n",
       "    <tr style=\"text-align: right;\">\n",
       "      <th></th>\n",
       "      <th>actual</th>\n",
       "      <th>predicted</th>\n",
       "      <th>probability of class 0</th>\n",
       "      <th>probability of class 1</th>\n",
       "      <th>test scenario number</th>\n",
       "    </tr>\n",
       "  </thead>\n",
       "  <tbody>\n",
       "    <tr>\n",
       "      <th>0</th>\n",
       "      <td>0</td>\n",
       "      <td>0</td>\n",
       "      <td>0.906534</td>\n",
       "      <td>0.093466</td>\n",
       "      <td>0</td>\n",
       "    </tr>\n",
       "    <tr>\n",
       "      <th>1</th>\n",
       "      <td>0</td>\n",
       "      <td>0</td>\n",
       "      <td>0.940852</td>\n",
       "      <td>0.059148</td>\n",
       "      <td>1</td>\n",
       "    </tr>\n",
       "    <tr>\n",
       "      <th>2</th>\n",
       "      <td>0</td>\n",
       "      <td>0</td>\n",
       "      <td>0.862316</td>\n",
       "      <td>0.137684</td>\n",
       "      <td>2</td>\n",
       "    </tr>\n",
       "    <tr>\n",
       "      <th>3</th>\n",
       "      <td>0</td>\n",
       "      <td>0</td>\n",
       "      <td>0.900977</td>\n",
       "      <td>0.099023</td>\n",
       "      <td>3</td>\n",
       "    </tr>\n",
       "    <tr>\n",
       "      <th>4</th>\n",
       "      <td>0</td>\n",
       "      <td>0</td>\n",
       "      <td>0.814778</td>\n",
       "      <td>0.185222</td>\n",
       "      <td>4</td>\n",
       "    </tr>\n",
       "    <tr>\n",
       "      <th>...</th>\n",
       "      <td>...</td>\n",
       "      <td>...</td>\n",
       "      <td>...</td>\n",
       "      <td>...</td>\n",
       "      <td>...</td>\n",
       "    </tr>\n",
       "    <tr>\n",
       "      <th>995</th>\n",
       "      <td>0</td>\n",
       "      <td>0</td>\n",
       "      <td>0.813387</td>\n",
       "      <td>0.186613</td>\n",
       "      <td>995</td>\n",
       "    </tr>\n",
       "    <tr>\n",
       "      <th>996</th>\n",
       "      <td>0</td>\n",
       "      <td>0</td>\n",
       "      <td>0.976214</td>\n",
       "      <td>0.023786</td>\n",
       "      <td>996</td>\n",
       "    </tr>\n",
       "    <tr>\n",
       "      <th>997</th>\n",
       "      <td>0</td>\n",
       "      <td>0</td>\n",
       "      <td>0.894791</td>\n",
       "      <td>0.105209</td>\n",
       "      <td>997</td>\n",
       "    </tr>\n",
       "    <tr>\n",
       "      <th>998</th>\n",
       "      <td>0</td>\n",
       "      <td>0</td>\n",
       "      <td>0.942302</td>\n",
       "      <td>0.057698</td>\n",
       "      <td>998</td>\n",
       "    </tr>\n",
       "    <tr>\n",
       "      <th>999</th>\n",
       "      <td>0</td>\n",
       "      <td>0</td>\n",
       "      <td>0.964647</td>\n",
       "      <td>0.035353</td>\n",
       "      <td>999</td>\n",
       "    </tr>\n",
       "  </tbody>\n",
       "</table>\n",
       "<p>1000 rows × 5 columns</p>\n",
       "</div>"
      ],
      "text/plain": [
       "     actual  predicted  probability of class 0  probability of class 1  \\\n",
       "0         0          0                0.906534                0.093466   \n",
       "1         0          0                0.940852                0.059148   \n",
       "2         0          0                0.862316                0.137684   \n",
       "3         0          0                0.900977                0.099023   \n",
       "4         0          0                0.814778                0.185222   \n",
       "..      ...        ...                     ...                     ...   \n",
       "995       0          0                0.813387                0.186613   \n",
       "996       0          0                0.976214                0.023786   \n",
       "997       0          0                0.894791                0.105209   \n",
       "998       0          0                0.942302                0.057698   \n",
       "999       0          0                0.964647                0.035353   \n",
       "\n",
       "     test scenario number  \n",
       "0                       0  \n",
       "1                       1  \n",
       "2                       2  \n",
       "3                       3  \n",
       "4                       4  \n",
       "..                    ...  \n",
       "995                   995  \n",
       "996                   996  \n",
       "997                   997  \n",
       "998                   998  \n",
       "999                   999  \n",
       "\n",
       "[1000 rows x 5 columns]"
      ]
     },
     "execution_count": 215,
     "metadata": {},
     "output_type": "execute_result"
    }
   ],
   "source": [
    "result = pd.concat([y_test, result,result2],axis=1)\n",
    "result['test scenario number'] = result.index\n",
    "result"
   ]
  },
  {
   "cell_type": "code",
   "execution_count": 216,
   "id": "f5ce7906",
   "metadata": {},
   "outputs": [
    {
     "data": {
      "text/html": [
       "<div>\n",
       "<style scoped>\n",
       "    .dataframe tbody tr th:only-of-type {\n",
       "        vertical-align: middle;\n",
       "    }\n",
       "\n",
       "    .dataframe tbody tr th {\n",
       "        vertical-align: top;\n",
       "    }\n",
       "\n",
       "    .dataframe thead th {\n",
       "        text-align: right;\n",
       "    }\n",
       "</style>\n",
       "<table border=\"1\" class=\"dataframe\">\n",
       "  <thead>\n",
       "    <tr style=\"text-align: right;\">\n",
       "      <th></th>\n",
       "      <th>test scenario number</th>\n",
       "      <th>actual</th>\n",
       "      <th>predicted</th>\n",
       "      <th>probability of class 1</th>\n",
       "    </tr>\n",
       "  </thead>\n",
       "  <tbody>\n",
       "    <tr>\n",
       "      <th>0</th>\n",
       "      <td>0</td>\n",
       "      <td>0</td>\n",
       "      <td>0</td>\n",
       "      <td>0.093466</td>\n",
       "    </tr>\n",
       "    <tr>\n",
       "      <th>1</th>\n",
       "      <td>1</td>\n",
       "      <td>0</td>\n",
       "      <td>0</td>\n",
       "      <td>0.059148</td>\n",
       "    </tr>\n",
       "    <tr>\n",
       "      <th>2</th>\n",
       "      <td>2</td>\n",
       "      <td>0</td>\n",
       "      <td>0</td>\n",
       "      <td>0.137684</td>\n",
       "    </tr>\n",
       "    <tr>\n",
       "      <th>3</th>\n",
       "      <td>3</td>\n",
       "      <td>0</td>\n",
       "      <td>0</td>\n",
       "      <td>0.099023</td>\n",
       "    </tr>\n",
       "    <tr>\n",
       "      <th>4</th>\n",
       "      <td>4</td>\n",
       "      <td>0</td>\n",
       "      <td>0</td>\n",
       "      <td>0.185222</td>\n",
       "    </tr>\n",
       "    <tr>\n",
       "      <th>...</th>\n",
       "      <td>...</td>\n",
       "      <td>...</td>\n",
       "      <td>...</td>\n",
       "      <td>...</td>\n",
       "    </tr>\n",
       "    <tr>\n",
       "      <th>995</th>\n",
       "      <td>995</td>\n",
       "      <td>0</td>\n",
       "      <td>0</td>\n",
       "      <td>0.186613</td>\n",
       "    </tr>\n",
       "    <tr>\n",
       "      <th>996</th>\n",
       "      <td>996</td>\n",
       "      <td>0</td>\n",
       "      <td>0</td>\n",
       "      <td>0.023786</td>\n",
       "    </tr>\n",
       "    <tr>\n",
       "      <th>997</th>\n",
       "      <td>997</td>\n",
       "      <td>0</td>\n",
       "      <td>0</td>\n",
       "      <td>0.105209</td>\n",
       "    </tr>\n",
       "    <tr>\n",
       "      <th>998</th>\n",
       "      <td>998</td>\n",
       "      <td>0</td>\n",
       "      <td>0</td>\n",
       "      <td>0.057698</td>\n",
       "    </tr>\n",
       "    <tr>\n",
       "      <th>999</th>\n",
       "      <td>999</td>\n",
       "      <td>0</td>\n",
       "      <td>0</td>\n",
       "      <td>0.035353</td>\n",
       "    </tr>\n",
       "  </tbody>\n",
       "</table>\n",
       "<p>1000 rows × 4 columns</p>\n",
       "</div>"
      ],
      "text/plain": [
       "     test scenario number  actual  predicted  probability of class 1\n",
       "0                       0       0          0                0.093466\n",
       "1                       1       0          0                0.059148\n",
       "2                       2       0          0                0.137684\n",
       "3                       3       0          0                0.099023\n",
       "4                       4       0          0                0.185222\n",
       "..                    ...     ...        ...                     ...\n",
       "995                   995       0          0                0.186613\n",
       "996                   996       0          0                0.023786\n",
       "997                   997       0          0                0.105209\n",
       "998                   998       0          0                0.057698\n",
       "999                   999       0          0                0.035353\n",
       "\n",
       "[1000 rows x 4 columns]"
      ]
     },
     "execution_count": 216,
     "metadata": {},
     "output_type": "execute_result"
    }
   ],
   "source": [
    "\n",
    "result=result[['test scenario number','actual','predicted','probability of class 1']]\n",
    "result"
   ]
  },
  {
   "cell_type": "code",
   "execution_count": 217,
   "id": "70f0ada2",
   "metadata": {},
   "outputs": [
    {
     "data": {
      "text/html": [
       "<div>\n",
       "<style scoped>\n",
       "    .dataframe tbody tr th:only-of-type {\n",
       "        vertical-align: middle;\n",
       "    }\n",
       "\n",
       "    .dataframe tbody tr th {\n",
       "        vertical-align: top;\n",
       "    }\n",
       "\n",
       "    .dataframe thead th {\n",
       "        text-align: right;\n",
       "    }\n",
       "</style>\n",
       "<table border=\"1\" class=\"dataframe\">\n",
       "  <thead>\n",
       "    <tr style=\"text-align: right;\">\n",
       "      <th></th>\n",
       "      <th>test scenario number</th>\n",
       "      <th>actual</th>\n",
       "      <th>predicted</th>\n",
       "      <th>probability of class 1</th>\n",
       "    </tr>\n",
       "  </thead>\n",
       "  <tbody>\n",
       "    <tr>\n",
       "      <th>221</th>\n",
       "      <td>221</td>\n",
       "      <td>1</td>\n",
       "      <td>0</td>\n",
       "      <td>0.168608</td>\n",
       "    </tr>\n",
       "    <tr>\n",
       "      <th>358</th>\n",
       "      <td>358</td>\n",
       "      <td>1</td>\n",
       "      <td>1</td>\n",
       "      <td>0.774659</td>\n",
       "    </tr>\n",
       "    <tr>\n",
       "      <th>392</th>\n",
       "      <td>392</td>\n",
       "      <td>1</td>\n",
       "      <td>0</td>\n",
       "      <td>0.455851</td>\n",
       "    </tr>\n",
       "    <tr>\n",
       "      <th>684</th>\n",
       "      <td>684</td>\n",
       "      <td>1</td>\n",
       "      <td>0</td>\n",
       "      <td>0.137365</td>\n",
       "    </tr>\n",
       "    <tr>\n",
       "      <th>686</th>\n",
       "      <td>686</td>\n",
       "      <td>1</td>\n",
       "      <td>0</td>\n",
       "      <td>0.413772</td>\n",
       "    </tr>\n",
       "    <tr>\n",
       "      <th>689</th>\n",
       "      <td>689</td>\n",
       "      <td>1</td>\n",
       "      <td>0</td>\n",
       "      <td>0.033318</td>\n",
       "    </tr>\n",
       "    <tr>\n",
       "      <th>690</th>\n",
       "      <td>690</td>\n",
       "      <td>1</td>\n",
       "      <td>0</td>\n",
       "      <td>0.033256</td>\n",
       "    </tr>\n",
       "    <tr>\n",
       "      <th>758</th>\n",
       "      <td>758</td>\n",
       "      <td>1</td>\n",
       "      <td>1</td>\n",
       "      <td>0.676904</td>\n",
       "    </tr>\n",
       "    <tr>\n",
       "      <th>770</th>\n",
       "      <td>770</td>\n",
       "      <td>1</td>\n",
       "      <td>0</td>\n",
       "      <td>0.344615</td>\n",
       "    </tr>\n",
       "  </tbody>\n",
       "</table>\n",
       "</div>"
      ],
      "text/plain": [
       "     test scenario number  actual  predicted  probability of class 1\n",
       "221                   221       1          0                0.168608\n",
       "358                   358       1          1                0.774659\n",
       "392                   392       1          0                0.455851\n",
       "684                   684       1          0                0.137365\n",
       "686                   686       1          0                0.413772\n",
       "689                   689       1          0                0.033318\n",
       "690                   690       1          0                0.033256\n",
       "758                   758       1          1                0.676904\n",
       "770                   770       1          0                0.344615"
      ]
     },
     "execution_count": 217,
     "metadata": {},
     "output_type": "execute_result"
    }
   ],
   "source": [
    "result.loc[result['actual']==1]"
   ]
  },
  {
   "cell_type": "code",
   "execution_count": 218,
   "id": "272ab9ac",
   "metadata": {},
   "outputs": [],
   "source": [
    "df_result=result.sort_values(by=\"probability of class 1\",ascending=False)"
   ]
  },
  {
   "cell_type": "code",
   "execution_count": 219,
   "id": "fc65ab7d",
   "metadata": {},
   "outputs": [],
   "source": [
    "df_result.to_csv(\"df_result.csv\")"
   ]
  },
  {
   "cell_type": "code",
   "execution_count": 223,
   "id": "65c57616",
   "metadata": {},
   "outputs": [],
   "source": [
    "df_result=pd.read_csv(\"df_result.csv\",engine=None)"
   ]
  },
  {
   "cell_type": "code",
   "execution_count": 224,
   "id": "c16e244a",
   "metadata": {},
   "outputs": [
    {
     "data": {
      "text/html": [
       "<div>\n",
       "<style scoped>\n",
       "    .dataframe tbody tr th:only-of-type {\n",
       "        vertical-align: middle;\n",
       "    }\n",
       "\n",
       "    .dataframe tbody tr th {\n",
       "        vertical-align: top;\n",
       "    }\n",
       "\n",
       "    .dataframe thead th {\n",
       "        text-align: right;\n",
       "    }\n",
       "</style>\n",
       "<table border=\"1\" class=\"dataframe\">\n",
       "  <thead>\n",
       "    <tr style=\"text-align: right;\">\n",
       "      <th></th>\n",
       "      <th>test scenario number</th>\n",
       "      <th>actual</th>\n",
       "      <th>predicted</th>\n",
       "      <th>probability of class 1</th>\n",
       "      <th>prioritize order</th>\n",
       "    </tr>\n",
       "  </thead>\n",
       "  <tbody>\n",
       "    <tr>\n",
       "      <th>4</th>\n",
       "      <td>358</td>\n",
       "      <td>1</td>\n",
       "      <td>1</td>\n",
       "      <td>0.774659</td>\n",
       "      <td>4</td>\n",
       "    </tr>\n",
       "    <tr>\n",
       "      <th>19</th>\n",
       "      <td>758</td>\n",
       "      <td>1</td>\n",
       "      <td>1</td>\n",
       "      <td>0.676904</td>\n",
       "      <td>19</td>\n",
       "    </tr>\n",
       "    <tr>\n",
       "      <th>60</th>\n",
       "      <td>392</td>\n",
       "      <td>1</td>\n",
       "      <td>0</td>\n",
       "      <td>0.455851</td>\n",
       "      <td>60</td>\n",
       "    </tr>\n",
       "    <tr>\n",
       "      <th>76</th>\n",
       "      <td>686</td>\n",
       "      <td>1</td>\n",
       "      <td>0</td>\n",
       "      <td>0.413772</td>\n",
       "      <td>76</td>\n",
       "    </tr>\n",
       "    <tr>\n",
       "      <th>98</th>\n",
       "      <td>770</td>\n",
       "      <td>1</td>\n",
       "      <td>0</td>\n",
       "      <td>0.344615</td>\n",
       "      <td>98</td>\n",
       "    </tr>\n",
       "    <tr>\n",
       "      <th>260</th>\n",
       "      <td>221</td>\n",
       "      <td>1</td>\n",
       "      <td>0</td>\n",
       "      <td>0.168608</td>\n",
       "      <td>260</td>\n",
       "    </tr>\n",
       "    <tr>\n",
       "      <th>311</th>\n",
       "      <td>684</td>\n",
       "      <td>1</td>\n",
       "      <td>0</td>\n",
       "      <td>0.137365</td>\n",
       "      <td>311</td>\n",
       "    </tr>\n",
       "    <tr>\n",
       "      <th>685</th>\n",
       "      <td>689</td>\n",
       "      <td>1</td>\n",
       "      <td>0</td>\n",
       "      <td>0.033318</td>\n",
       "      <td>685</td>\n",
       "    </tr>\n",
       "    <tr>\n",
       "      <th>686</th>\n",
       "      <td>690</td>\n",
       "      <td>1</td>\n",
       "      <td>0</td>\n",
       "      <td>0.033256</td>\n",
       "      <td>686</td>\n",
       "    </tr>\n",
       "  </tbody>\n",
       "</table>\n",
       "</div>"
      ],
      "text/plain": [
       "     test scenario number  actual  predicted  probability of class 1  \\\n",
       "4                     358       1          1                0.774659   \n",
       "19                    758       1          1                0.676904   \n",
       "60                    392       1          0                0.455851   \n",
       "76                    686       1          0                0.413772   \n",
       "98                    770       1          0                0.344615   \n",
       "260                   221       1          0                0.168608   \n",
       "311                   684       1          0                0.137365   \n",
       "685                   689       1          0                0.033318   \n",
       "686                   690       1          0                0.033256   \n",
       "\n",
       "     prioritize order  \n",
       "4                   4  \n",
       "19                 19  \n",
       "60                 60  \n",
       "76                 76  \n",
       "98                 98  \n",
       "260               260  \n",
       "311               311  \n",
       "685               685  \n",
       "686               686  "
      ]
     },
     "execution_count": 224,
     "metadata": {},
     "output_type": "execute_result"
    }
   ],
   "source": [
    "df_result['prioritize order'] = result.index\n",
    "df_result.loc[df_result['actual']==1]"
   ]
  },
  {
   "cell_type": "code",
   "execution_count": null,
   "id": "bba3bdaf",
   "metadata": {},
   "outputs": [],
   "source": []
  }
 ],
 "metadata": {
  "kernelspec": {
   "display_name": "Python 3 (ipykernel)",
   "language": "python",
   "name": "python3"
  },
  "language_info": {
   "codemirror_mode": {
    "name": "ipython",
    "version": 3
   },
   "file_extension": ".py",
   "mimetype": "text/x-python",
   "name": "python",
   "nbconvert_exporter": "python",
   "pygments_lexer": "ipython3",
   "version": "3.8.8"
  }
 },
 "nbformat": 4,
 "nbformat_minor": 5
}
